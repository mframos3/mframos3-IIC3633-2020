{
  "nbformat": 4,
  "nbformat_minor": 0,
  "metadata": {
    "colab": {
      "name": "GRU4Rec c/DT.ipynb",
      "provenance": [],
      "collapsed_sections": []
    },
    "kernelspec": {
      "name": "python3",
      "display_name": "Python 3"
    },
    "accelerator": "GPU"
  },
  "cells": [
    {
      "cell_type": "markdown",
      "metadata": {
        "id": "bcrDor7CR1SO"
      },
      "source": [
        "# Gated Recurrent Units for session-based next item prediction\n",
        "\n",
        "Patricio Cerda, Bastián Mavrakis, Denis Parra\n",
        "\n",
        "### Ambiente: Python3 + GPU\n",
        "\n",
        "## Descargar datos y repositorio"
      ]
    },
    {
      "cell_type": "code",
      "metadata": {
        "id": "nCAQDIrOPUQP",
        "colab": {
          "base_uri": "https://localhost:8080/"
        },
        "outputId": "019032e8-27d8-4144-ac78-500455714c6a"
      },
      "source": [
        "# Clone repo\n",
        "!git clone https://github.com/pcerdam/KerasGRU4Rec --single-branch src"
      ],
      "execution_count": 1,
      "outputs": [
        {
          "output_type": "stream",
          "text": [
            "Cloning into 'src'...\n",
            "remote: Enumerating objects: 46, done.\u001b[K\n",
            "remote: Counting objects: 100% (46/46), done.\u001b[K\n",
            "remote: Compressing objects: 100% (30/30), done.\u001b[K\n",
            "remote: Total 207 (delta 15), reused 32 (delta 12), pack-reused 161\u001b[K\n",
            "Receiving objects: 100% (207/207), 10.58 MiB | 17.70 MiB/s, done.\n",
            "Resolving deltas: 100% (87/87), done.\n"
          ],
          "name": "stdout"
        }
      ]
    },
    {
      "cell_type": "code",
      "metadata": {
        "id": "BpccDqjDPbjI",
        "colab": {
          "base_uri": "https://localhost:8080/"
        },
        "outputId": "ffb996c0-d871-4fcc-a08e-3f020e2cf9bf"
      },
      "source": [
        "# Download RecSys Challenge 2015 dataset\n",
        "!rm -r sample_data\n",
        "!curl https://s3-eu-west-1.amazonaws.com/yc-rdata/yoochoose-data.7z --output data.7z"
      ],
      "execution_count": 2,
      "outputs": [
        {
          "output_type": "stream",
          "text": [
            "  % Total    % Received % Xferd  Average Speed   Time    Time     Time  Current\n",
            "                                 Dload  Upload   Total   Spent    Left  Speed\n",
            "100  273M  100  273M    0     0  25.4M      0  0:00:10  0:00:10 --:--:-- 28.5M\n"
          ],
          "name": "stdout"
        }
      ]
    },
    {
      "cell_type": "code",
      "metadata": {
        "id": "AJkLaRyqPp-z",
        "colab": {
          "base_uri": "https://localhost:8080/"
        },
        "outputId": "a49aab70-9473-4e25-beff-63790360f5e6"
      },
      "source": [
        "# Extract dataset\n",
        "!7z e data.7z -o./rsc15\n",
        "!rm data.7z\n",
        "!mkdir data"
      ],
      "execution_count": 3,
      "outputs": [
        {
          "output_type": "stream",
          "text": [
            "\n",
            "7-Zip [64] 16.02 : Copyright (c) 1999-2016 Igor Pavlov : 2016-05-21\n",
            "p7zip Version 16.02 (locale=en_US.UTF-8,Utf16=on,HugeFiles=on,64 bits,2 CPUs Intel(R) Xeon(R) CPU @ 2.30GHz (306F0),ASM,AES-NI)\n",
            "\n",
            "Scanning the drive for archives:\n",
            "  0M Scan\b\b\b\b\b\b\b\b\b         \b\b\b\b\b\b\b\b\b1 file, 287211932 bytes (274 MiB)\n",
            "\n",
            "Extracting archive: data.7z\n",
            "--\n",
            "Path = data.7z\n",
            "Type = 7z\n",
            "Physical Size = 287211932\n",
            "Headers Size = 255\n",
            "Method = LZMA:24\n",
            "Solid = +\n",
            "Blocks = 2\n",
            "\n",
            "  0%\b\b\b\b    \b\b\b\b  0% - yoochoose-buys.dat\b\b\b\b\b\b\b\b\b\b\b\b\b\b\b\b\b\b\b\b\b\b\b\b\b                         \b\b\b\b\b\b\b\b\b\b\b\b\b\b\b\b\b\b\b\b\b\b\b\b\b  1% - yoochoose-buys.dat\b\b\b\b\b\b\b\b\b\b\b\b\b\b\b\b\b\b\b\b\b\b\b\b\b                         \b\b\b\b\b\b\b\b\b\b\b\b\b\b\b\b\b\b\b\b\b\b\b\b\b  2% - yoochoose-buys.dat\b\b\b\b\b\b\b\b\b\b\b\b\b\b\b\b\b\b\b\b\b\b\b\b\b                         \b\b\b\b\b\b\b\b\b\b\b\b\b\b\b\b\b\b\b\b\b\b\b\b\b  2% 1 - yoochoose-clicks.dat\b\b\b\b\b\b\b\b\b\b\b\b\b\b\b\b\b\b\b\b\b\b\b\b\b\b\b\b\b                             \b\b\b\b\b\b\b\b\b\b\b\b\b\b\b\b\b\b\b\b\b\b\b\b\b\b\b\b\b  3% 1 - yoochoose-clicks.dat\b\b\b\b\b\b\b\b\b\b\b\b\b\b\b\b\b\b\b\b\b\b\b\b\b\b\b\b\b                             \b\b\b\b\b\b\b\b\b\b\b\b\b\b\b\b\b\b\b\b\b\b\b\b\b\b\b\b\b  4% 1 - yoochoose-clicks.dat\b\b\b\b\b\b\b\b\b\b\b\b\b\b\b\b\b\b\b\b\b\b\b\b\b\b\b\b\b                             \b\b\b\b\b\b\b\b\b\b\b\b\b\b\b\b\b\b\b\b\b\b\b\b\b\b\b\b\b  5% 1 - yoochoose-clicks.dat\b\b\b\b\b\b\b\b\b\b\b\b\b\b\b\b\b\b\b\b\b\b\b\b\b\b\b\b\b                             \b\b\b\b\b\b\b\b\b\b\b\b\b\b\b\b\b\b\b\b\b\b\b\b\b\b\b\b\b  6% 1 - yoochoose-clicks.dat\b\b\b\b\b\b\b\b\b\b\b\b\b\b\b\b\b\b\b\b\b\b\b\b\b\b\b\b\b                             \b\b\b\b\b\b\b\b\b\b\b\b\b\b\b\b\b\b\b\b\b\b\b\b\b\b\b\b\b  7% 1 - yoochoose-clicks.dat\b\b\b\b\b\b\b\b\b\b\b\b\b\b\b\b\b\b\b\b\b\b\b\b\b\b\b\b\b                             \b\b\b\b\b\b\b\b\b\b\b\b\b\b\b\b\b\b\b\b\b\b\b\b\b\b\b\b\b  8% 1 - yoochoose-clicks.dat\b\b\b\b\b\b\b\b\b\b\b\b\b\b\b\b\b\b\b\b\b\b\b\b\b\b\b\b\b                             \b\b\b\b\b\b\b\b\b\b\b\b\b\b\b\b\b\b\b\b\b\b\b\b\b\b\b\b\b  9% 1 - yoochoose-clicks.dat\b\b\b\b\b\b\b\b\b\b\b\b\b\b\b\b\b\b\b\b\b\b\b\b\b\b\b\b\b                             \b\b\b\b\b\b\b\b\b\b\b\b\b\b\b\b\b\b\b\b\b\b\b\b\b\b\b\b\b 10% 1 - yoochoose-clicks.dat\b\b\b\b\b\b\b\b\b\b\b\b\b\b\b\b\b\b\b\b\b\b\b\b\b\b\b\b\b                             \b\b\b\b\b\b\b\b\b\b\b\b\b\b\b\b\b\b\b\b\b\b\b\b\b\b\b\b\b 11% 1 - yoochoose-clicks.dat\b\b\b\b\b\b\b\b\b\b\b\b\b\b\b\b\b\b\b\b\b\b\b\b\b\b\b\b\b                             \b\b\b\b\b\b\b\b\b\b\b\b\b\b\b\b\b\b\b\b\b\b\b\b\b\b\b\b\b 12% 1 - yoochoose-clicks.dat\b\b\b\b\b\b\b\b\b\b\b\b\b\b\b\b\b\b\b\b\b\b\b\b\b\b\b\b\b                             \b\b\b\b\b\b\b\b\b\b\b\b\b\b\b\b\b\b\b\b\b\b\b\b\b\b\b\b\b 13% 1 - yoochoose-clicks.dat\b\b\b\b\b\b\b\b\b\b\b\b\b\b\b\b\b\b\b\b\b\b\b\b\b\b\b\b\b                             \b\b\b\b\b\b\b\b\b\b\b\b\b\b\b\b\b\b\b\b\b\b\b\b\b\b\b\b\b 14% 1 - yoochoose-clicks.dat\b\b\b\b\b\b\b\b\b\b\b\b\b\b\b\b\b\b\b\b\b\b\b\b\b\b\b\b\b                             \b\b\b\b\b\b\b\b\b\b\b\b\b\b\b\b\b\b\b\b\b\b\b\b\b\b\b\b\b 15% 1 - yoochoose-clicks.dat\b\b\b\b\b\b\b\b\b\b\b\b\b\b\b\b\b\b\b\b\b\b\b\b\b\b\b\b\b                             \b\b\b\b\b\b\b\b\b\b\b\b\b\b\b\b\b\b\b\b\b\b\b\b\b\b\b\b\b 16% 1 - yoochoose-clicks.dat\b\b\b\b\b\b\b\b\b\b\b\b\b\b\b\b\b\b\b\b\b\b\b\b\b\b\b\b\b                             \b\b\b\b\b\b\b\b\b\b\b\b\b\b\b\b\b\b\b\b\b\b\b\b\b\b\b\b\b 17% 1 - yoochoose-clicks.dat\b\b\b\b\b\b\b\b\b\b\b\b\b\b\b\b\b\b\b\b\b\b\b\b\b\b\b\b\b                             \b\b\b\b\b\b\b\b\b\b\b\b\b\b\b\b\b\b\b\b\b\b\b\b\b\b\b\b\b 18% 1 - yoochoose-clicks.dat\b\b\b\b\b\b\b\b\b\b\b\b\b\b\b\b\b\b\b\b\b\b\b\b\b\b\b\b\b                             \b\b\b\b\b\b\b\b\b\b\b\b\b\b\b\b\b\b\b\b\b\b\b\b\b\b\b\b\b 19% 1 - yoochoose-clicks.dat\b\b\b\b\b\b\b\b\b\b\b\b\b\b\b\b\b\b\b\b\b\b\b\b\b\b\b\b\b                             \b\b\b\b\b\b\b\b\b\b\b\b\b\b\b\b\b\b\b\b\b\b\b\b\b\b\b\b\b 20% 1 - yoochoose-clicks.dat\b\b\b\b\b\b\b\b\b\b\b\b\b\b\b\b\b\b\b\b\b\b\b\b\b\b\b\b\b                             \b\b\b\b\b\b\b\b\b\b\b\b\b\b\b\b\b\b\b\b\b\b\b\b\b\b\b\b\b 21% 1 - yoochoose-clicks.dat\b\b\b\b\b\b\b\b\b\b\b\b\b\b\b\b\b\b\b\b\b\b\b\b\b\b\b\b\b                             \b\b\b\b\b\b\b\b\b\b\b\b\b\b\b\b\b\b\b\b\b\b\b\b\b\b\b\b\b 22% 1 - yoochoose-clicks.dat\b\b\b\b\b\b\b\b\b\b\b\b\b\b\b\b\b\b\b\b\b\b\b\b\b\b\b\b\b                             \b\b\b\b\b\b\b\b\b\b\b\b\b\b\b\b\b\b\b\b\b\b\b\b\b\b\b\b\b 23% 1 - yoochoose-clicks.dat\b\b\b\b\b\b\b\b\b\b\b\b\b\b\b\b\b\b\b\b\b\b\b\b\b\b\b\b\b                             \b\b\b\b\b\b\b\b\b\b\b\b\b\b\b\b\b\b\b\b\b\b\b\b\b\b\b\b\b 24% 1 - yoochoose-clicks.dat\b\b\b\b\b\b\b\b\b\b\b\b\b\b\b\b\b\b\b\b\b\b\b\b\b\b\b\b\b                             \b\b\b\b\b\b\b\b\b\b\b\b\b\b\b\b\b\b\b\b\b\b\b\b\b\b\b\b\b 25% 1 - yoochoose-clicks.dat\b\b\b\b\b\b\b\b\b\b\b\b\b\b\b\b\b\b\b\b\b\b\b\b\b\b\b\b\b                             \b\b\b\b\b\b\b\b\b\b\b\b\b\b\b\b\b\b\b\b\b\b\b\b\b\b\b\b\b 26% 1 - yoochoose-clicks.dat\b\b\b\b\b\b\b\b\b\b\b\b\b\b\b\b\b\b\b\b\b\b\b\b\b\b\b\b\b                             \b\b\b\b\b\b\b\b\b\b\b\b\b\b\b\b\b\b\b\b\b\b\b\b\b\b\b\b\b 27% 1 - yoochoose-clicks.dat\b\b\b\b\b\b\b\b\b\b\b\b\b\b\b\b\b\b\b\b\b\b\b\b\b\b\b\b\b                             \b\b\b\b\b\b\b\b\b\b\b\b\b\b\b\b\b\b\b\b\b\b\b\b\b\b\b\b\b 28% 1 - yoochoose-clicks.dat\b\b\b\b\b\b\b\b\b\b\b\b\b\b\b\b\b\b\b\b\b\b\b\b\b\b\b\b\b                             \b\b\b\b\b\b\b\b\b\b\b\b\b\b\b\b\b\b\b\b\b\b\b\b\b\b\b\b\b 29% 1 - yoochoose-clicks.dat\b\b\b\b\b\b\b\b\b\b\b\b\b\b\b\b\b\b\b\b\b\b\b\b\b\b\b\b\b                             \b\b\b\b\b\b\b\b\b\b\b\b\b\b\b\b\b\b\b\b\b\b\b\b\b\b\b\b\b 30% 1 - yoochoose-clicks.dat\b\b\b\b\b\b\b\b\b\b\b\b\b\b\b\b\b\b\b\b\b\b\b\b\b\b\b\b\b                             \b\b\b\b\b\b\b\b\b\b\b\b\b\b\b\b\b\b\b\b\b\b\b\b\b\b\b\b\b 31% 1 - yoochoose-clicks.dat\b\b\b\b\b\b\b\b\b\b\b\b\b\b\b\b\b\b\b\b\b\b\b\b\b\b\b\b\b                             \b\b\b\b\b\b\b\b\b\b\b\b\b\b\b\b\b\b\b\b\b\b\b\b\b\b\b\b\b 32% 1 - yoochoose-clicks.dat\b\b\b\b\b\b\b\b\b\b\b\b\b\b\b\b\b\b\b\b\b\b\b\b\b\b\b\b\b                             \b\b\b\b\b\b\b\b\b\b\b\b\b\b\b\b\b\b\b\b\b\b\b\b\b\b\b\b\b 33% 1 - yoochoose-clicks.dat\b\b\b\b\b\b\b\b\b\b\b\b\b\b\b\b\b\b\b\b\b\b\b\b\b\b\b\b\b                             \b\b\b\b\b\b\b\b\b\b\b\b\b\b\b\b\b\b\b\b\b\b\b\b\b\b\b\b\b 34% 1 - yoochoose-clicks.dat\b\b\b\b\b\b\b\b\b\b\b\b\b\b\b\b\b\b\b\b\b\b\b\b\b\b\b\b\b                             \b\b\b\b\b\b\b\b\b\b\b\b\b\b\b\b\b\b\b\b\b\b\b\b\b\b\b\b\b 35% 1 - yoochoose-clicks.dat\b\b\b\b\b\b\b\b\b\b\b\b\b\b\b\b\b\b\b\b\b\b\b\b\b\b\b\b\b                             \b\b\b\b\b\b\b\b\b\b\b\b\b\b\b\b\b\b\b\b\b\b\b\b\b\b\b\b\b 36% 1 - yoochoose-clicks.dat\b\b\b\b\b\b\b\b\b\b\b\b\b\b\b\b\b\b\b\b\b\b\b\b\b\b\b\b\b                             \b\b\b\b\b\b\b\b\b\b\b\b\b\b\b\b\b\b\b\b\b\b\b\b\b\b\b\b\b 37% 1 - yoochoose-clicks.dat\b\b\b\b\b\b\b\b\b\b\b\b\b\b\b\b\b\b\b\b\b\b\b\b\b\b\b\b\b                             \b\b\b\b\b\b\b\b\b\b\b\b\b\b\b\b\b\b\b\b\b\b\b\b\b\b\b\b\b 38% 1 - yoochoose-clicks.dat\b\b\b\b\b\b\b\b\b\b\b\b\b\b\b\b\b\b\b\b\b\b\b\b\b\b\b\b\b                             \b\b\b\b\b\b\b\b\b\b\b\b\b\b\b\b\b\b\b\b\b\b\b\b\b\b\b\b\b 39% 1 - yoochoose-clicks.dat\b\b\b\b\b\b\b\b\b\b\b\b\b\b\b\b\b\b\b\b\b\b\b\b\b\b\b\b\b                             \b\b\b\b\b\b\b\b\b\b\b\b\b\b\b\b\b\b\b\b\b\b\b\b\b\b\b\b\b 40% 1 - yoochoose-clicks.dat\b\b\b\b\b\b\b\b\b\b\b\b\b\b\b\b\b\b\b\b\b\b\b\b\b\b\b\b\b                             \b\b\b\b\b\b\b\b\b\b\b\b\b\b\b\b\b\b\b\b\b\b\b\b\b\b\b\b\b 41% 1 - yoochoose-clicks.dat\b\b\b\b\b\b\b\b\b\b\b\b\b\b\b\b\b\b\b\b\b\b\b\b\b\b\b\b\b                             \b\b\b\b\b\b\b\b\b\b\b\b\b\b\b\b\b\b\b\b\b\b\b\b\b\b\b\b\b 42% 1 - yoochoose-clicks.dat\b\b\b\b\b\b\b\b\b\b\b\b\b\b\b\b\b\b\b\b\b\b\b\b\b\b\b\b\b                             \b\b\b\b\b\b\b\b\b\b\b\b\b\b\b\b\b\b\b\b\b\b\b\b\b\b\b\b\b 43% 1 - yoochoose-clicks.dat\b\b\b\b\b\b\b\b\b\b\b\b\b\b\b\b\b\b\b\b\b\b\b\b\b\b\b\b\b                             \b\b\b\b\b\b\b\b\b\b\b\b\b\b\b\b\b\b\b\b\b\b\b\b\b\b\b\b\b 44% 1 - yoochoose-clicks.dat\b\b\b\b\b\b\b\b\b\b\b\b\b\b\b\b\b\b\b\b\b\b\b\b\b\b\b\b\b                             \b\b\b\b\b\b\b\b\b\b\b\b\b\b\b\b\b\b\b\b\b\b\b\b\b\b\b\b\b 45% 1 - yoochoose-clicks.dat\b\b\b\b\b\b\b\b\b\b\b\b\b\b\b\b\b\b\b\b\b\b\b\b\b\b\b\b\b                             \b\b\b\b\b\b\b\b\b\b\b\b\b\b\b\b\b\b\b\b\b\b\b\b\b\b\b\b\b 46% 1 - yoochoose-clicks.dat\b\b\b\b\b\b\b\b\b\b\b\b\b\b\b\b\b\b\b\b\b\b\b\b\b\b\b\b\b                             \b\b\b\b\b\b\b\b\b\b\b\b\b\b\b\b\b\b\b\b\b\b\b\b\b\b\b\b\b 47% 1 - yoochoose-clicks.dat\b\b\b\b\b\b\b\b\b\b\b\b\b\b\b\b\b\b\b\b\b\b\b\b\b\b\b\b\b                             \b\b\b\b\b\b\b\b\b\b\b\b\b\b\b\b\b\b\b\b\b\b\b\b\b\b\b\b\b 48% 1 - yoochoose-clicks.dat\b\b\b\b\b\b\b\b\b\b\b\b\b\b\b\b\b\b\b\b\b\b\b\b\b\b\b\b\b                             \b\b\b\b\b\b\b\b\b\b\b\b\b\b\b\b\b\b\b\b\b\b\b\b\b\b\b\b\b 49% 1 - yoochoose-clicks.dat\b\b\b\b\b\b\b\b\b\b\b\b\b\b\b\b\b\b\b\b\b\b\b\b\b\b\b\b\b                             \b\b\b\b\b\b\b\b\b\b\b\b\b\b\b\b\b\b\b\b\b\b\b\b\b\b\b\b\b 50% 1 - yoochoose-clicks.dat\b\b\b\b\b\b\b\b\b\b\b\b\b\b\b\b\b\b\b\b\b\b\b\b\b\b\b\b\b                             \b\b\b\b\b\b\b\b\b\b\b\b\b\b\b\b\b\b\b\b\b\b\b\b\b\b\b\b\b 51% 1 - yoochoose-clicks.dat\b\b\b\b\b\b\b\b\b\b\b\b\b\b\b\b\b\b\b\b\b\b\b\b\b\b\b\b\b                             \b\b\b\b\b\b\b\b\b\b\b\b\b\b\b\b\b\b\b\b\b\b\b\b\b\b\b\b\b 52% 1 - yoochoose-clicks.dat\b\b\b\b\b\b\b\b\b\b\b\b\b\b\b\b\b\b\b\b\b\b\b\b\b\b\b\b\b                             \b\b\b\b\b\b\b\b\b\b\b\b\b\b\b\b\b\b\b\b\b\b\b\b\b\b\b\b\b 53% 1 - yoochoose-clicks.dat\b\b\b\b\b\b\b\b\b\b\b\b\b\b\b\b\b\b\b\b\b\b\b\b\b\b\b\b\b                             \b\b\b\b\b\b\b\b\b\b\b\b\b\b\b\b\b\b\b\b\b\b\b\b\b\b\b\b\b 54% 1 - yoochoose-clicks.dat\b\b\b\b\b\b\b\b\b\b\b\b\b\b\b\b\b\b\b\b\b\b\b\b\b\b\b\b\b                             \b\b\b\b\b\b\b\b\b\b\b\b\b\b\b\b\b\b\b\b\b\b\b\b\b\b\b\b\b 55% 1 - yoochoose-clicks.dat\b\b\b\b\b\b\b\b\b\b\b\b\b\b\b\b\b\b\b\b\b\b\b\b\b\b\b\b\b                             \b\b\b\b\b\b\b\b\b\b\b\b\b\b\b\b\b\b\b\b\b\b\b\b\b\b\b\b\b 56% 1 - yoochoose-clicks.dat\b\b\b\b\b\b\b\b\b\b\b\b\b\b\b\b\b\b\b\b\b\b\b\b\b\b\b\b\b                             \b\b\b\b\b\b\b\b\b\b\b\b\b\b\b\b\b\b\b\b\b\b\b\b\b\b\b\b\b 57% 1 - yoochoose-clicks.dat\b\b\b\b\b\b\b\b\b\b\b\b\b\b\b\b\b\b\b\b\b\b\b\b\b\b\b\b\b                             \b\b\b\b\b\b\b\b\b\b\b\b\b\b\b\b\b\b\b\b\b\b\b\b\b\b\b\b\b 58% 1 - yoochoose-clicks.dat\b\b\b\b\b\b\b\b\b\b\b\b\b\b\b\b\b\b\b\b\b\b\b\b\b\b\b\b\b                             \b\b\b\b\b\b\b\b\b\b\b\b\b\b\b\b\b\b\b\b\b\b\b\b\b\b\b\b\b 59% 1 - yoochoose-clicks.dat\b\b\b\b\b\b\b\b\b\b\b\b\b\b\b\b\b\b\b\b\b\b\b\b\b\b\b\b\b                             \b\b\b\b\b\b\b\b\b\b\b\b\b\b\b\b\b\b\b\b\b\b\b\b\b\b\b\b\b 60% 1 - yoochoose-clicks.dat\b\b\b\b\b\b\b\b\b\b\b\b\b\b\b\b\b\b\b\b\b\b\b\b\b\b\b\b\b                             \b\b\b\b\b\b\b\b\b\b\b\b\b\b\b\b\b\b\b\b\b\b\b\b\b\b\b\b\b 61% 1 - yoochoose-clicks.dat\b\b\b\b\b\b\b\b\b\b\b\b\b\b\b\b\b\b\b\b\b\b\b\b\b\b\b\b\b                             \b\b\b\b\b\b\b\b\b\b\b\b\b\b\b\b\b\b\b\b\b\b\b\b\b\b\b\b\b 62% 1 - yoochoose-clicks.dat\b\b\b\b\b\b\b\b\b\b\b\b\b\b\b\b\b\b\b\b\b\b\b\b\b\b\b\b\b                             \b\b\b\b\b\b\b\b\b\b\b\b\b\b\b\b\b\b\b\b\b\b\b\b\b\b\b\b\b 63% 1 - yoochoose-clicks.dat\b\b\b\b\b\b\b\b\b\b\b\b\b\b\b\b\b\b\b\b\b\b\b\b\b\b\b\b\b                             \b\b\b\b\b\b\b\b\b\b\b\b\b\b\b\b\b\b\b\b\b\b\b\b\b\b\b\b\b 64% 1 - yoochoose-clicks.dat\b\b\b\b\b\b\b\b\b\b\b\b\b\b\b\b\b\b\b\b\b\b\b\b\b\b\b\b\b                             \b\b\b\b\b\b\b\b\b\b\b\b\b\b\b\b\b\b\b\b\b\b\b\b\b\b\b\b\b 65% 1 - yoochoose-clicks.dat\b\b\b\b\b\b\b\b\b\b\b\b\b\b\b\b\b\b\b\b\b\b\b\b\b\b\b\b\b                             \b\b\b\b\b\b\b\b\b\b\b\b\b\b\b\b\b\b\b\b\b\b\b\b\b\b\b\b\b 66% 1 - yoochoose-clicks.dat\b\b\b\b\b\b\b\b\b\b\b\b\b\b\b\b\b\b\b\b\b\b\b\b\b\b\b\b\b                             \b\b\b\b\b\b\b\b\b\b\b\b\b\b\b\b\b\b\b\b\b\b\b\b\b\b\b\b\b 67% 1 - yoochoose-clicks.dat\b\b\b\b\b\b\b\b\b\b\b\b\b\b\b\b\b\b\b\b\b\b\b\b\b\b\b\b\b                             \b\b\b\b\b\b\b\b\b\b\b\b\b\b\b\b\b\b\b\b\b\b\b\b\b\b\b\b\b 68% 1 - yoochoose-clicks.dat\b\b\b\b\b\b\b\b\b\b\b\b\b\b\b\b\b\b\b\b\b\b\b\b\b\b\b\b\b                             \b\b\b\b\b\b\b\b\b\b\b\b\b\b\b\b\b\b\b\b\b\b\b\b\b\b\b\b\b 69% 1 - yoochoose-clicks.dat\b\b\b\b\b\b\b\b\b\b\b\b\b\b\b\b\b\b\b\b\b\b\b\b\b\b\b\b\b                             \b\b\b\b\b\b\b\b\b\b\b\b\b\b\b\b\b\b\b\b\b\b\b\b\b\b\b\b\b 70% 1 - yoochoose-clicks.dat\b\b\b\b\b\b\b\b\b\b\b\b\b\b\b\b\b\b\b\b\b\b\b\b\b\b\b\b\b                             \b\b\b\b\b\b\b\b\b\b\b\b\b\b\b\b\b\b\b\b\b\b\b\b\b\b\b\b\b 71% 1 - yoochoose-clicks.dat\b\b\b\b\b\b\b\b\b\b\b\b\b\b\b\b\b\b\b\b\b\b\b\b\b\b\b\b\b                             \b\b\b\b\b\b\b\b\b\b\b\b\b\b\b\b\b\b\b\b\b\b\b\b\b\b\b\b\b 72% 1 - yoochoose-clicks.dat\b\b\b\b\b\b\b\b\b\b\b\b\b\b\b\b\b\b\b\b\b\b\b\b\b\b\b\b\b                             \b\b\b\b\b\b\b\b\b\b\b\b\b\b\b\b\b\b\b\b\b\b\b\b\b\b\b\b\b 73% 1 - yoochoose-clicks.dat\b\b\b\b\b\b\b\b\b\b\b\b\b\b\b\b\b\b\b\b\b\b\b\b\b\b\b\b\b                             \b\b\b\b\b\b\b\b\b\b\b\b\b\b\b\b\b\b\b\b\b\b\b\b\b\b\b\b\b 74% 1 - yoochoose-clicks.dat\b\b\b\b\b\b\b\b\b\b\b\b\b\b\b\b\b\b\b\b\b\b\b\b\b\b\b\b\b                             \b\b\b\b\b\b\b\b\b\b\b\b\b\b\b\b\b\b\b\b\b\b\b\b\b\b\b\b\b 75% 1 - yoochoose-clicks.dat\b\b\b\b\b\b\b\b\b\b\b\b\b\b\b\b\b\b\b\b\b\b\b\b\b\b\b\b\b                             \b\b\b\b\b\b\b\b\b\b\b\b\b\b\b\b\b\b\b\b\b\b\b\b\b\b\b\b\b 76% 1 - yoochoose-clicks.dat\b\b\b\b\b\b\b\b\b\b\b\b\b\b\b\b\b\b\b\b\b\b\b\b\b\b\b\b\b                             \b\b\b\b\b\b\b\b\b\b\b\b\b\b\b\b\b\b\b\b\b\b\b\b\b\b\b\b\b 77% 1 - yoochoose-clicks.dat\b\b\b\b\b\b\b\b\b\b\b\b\b\b\b\b\b\b\b\b\b\b\b\b\b\b\b\b\b                             \b\b\b\b\b\b\b\b\b\b\b\b\b\b\b\b\b\b\b\b\b\b\b\b\b\b\b\b\b 78% 1 - yoochoose-clicks.dat\b\b\b\b\b\b\b\b\b\b\b\b\b\b\b\b\b\b\b\b\b\b\b\b\b\b\b\b\b                             \b\b\b\b\b\b\b\b\b\b\b\b\b\b\b\b\b\b\b\b\b\b\b\b\b\b\b\b\b 79% 1 - yoochoose-clicks.dat\b\b\b\b\b\b\b\b\b\b\b\b\b\b\b\b\b\b\b\b\b\b\b\b\b\b\b\b\b                             \b\b\b\b\b\b\b\b\b\b\b\b\b\b\b\b\b\b\b\b\b\b\b\b\b\b\b\b\b 80% 1 - yoochoose-clicks.dat\b\b\b\b\b\b\b\b\b\b\b\b\b\b\b\b\b\b\b\b\b\b\b\b\b\b\b\b\b                             \b\b\b\b\b\b\b\b\b\b\b\b\b\b\b\b\b\b\b\b\b\b\b\b\b\b\b\b\b 80% 2 - yoochoose-test.dat\b\b\b\b\b\b\b\b\b\b\b\b\b\b\b\b\b\b\b\b\b\b\b\b\b\b\b                           \b\b\b\b\b\b\b\b\b\b\b\b\b\b\b\b\b\b\b\b\b\b\b\b\b\b\b 81% 2 - yoochoose-test.dat\b\b\b\b\b\b\b\b\b\b\b\b\b\b\b\b\b\b\b\b\b\b\b\b\b\b\b                           \b\b\b\b\b\b\b\b\b\b\b\b\b\b\b\b\b\b\b\b\b\b\b\b\b\b\b 82% 2 - yoochoose-test.dat\b\b\b\b\b\b\b\b\b\b\b\b\b\b\b\b\b\b\b\b\b\b\b\b\b\b\b                           \b\b\b\b\b\b\b\b\b\b\b\b\b\b\b\b\b\b\b\b\b\b\b\b\b\b\b 83% 2 - yoochoose-test.dat\b\b\b\b\b\b\b\b\b\b\b\b\b\b\b\b\b\b\b\b\b\b\b\b\b\b\b                           \b\b\b\b\b\b\b\b\b\b\b\b\b\b\b\b\b\b\b\b\b\b\b\b\b\b\b 84% 2 - yoochoose-test.dat\b\b\b\b\b\b\b\b\b\b\b\b\b\b\b\b\b\b\b\b\b\b\b\b\b\b\b                           \b\b\b\b\b\b\b\b\b\b\b\b\b\b\b\b\b\b\b\b\b\b\b\b\b\b\b 85% 2 - yoochoose-test.dat\b\b\b\b\b\b\b\b\b\b\b\b\b\b\b\b\b\b\b\b\b\b\b\b\b\b\b                           \b\b\b\b\b\b\b\b\b\b\b\b\b\b\b\b\b\b\b\b\b\b\b\b\b\b\b 86% 2 - yoochoose-test.dat\b\b\b\b\b\b\b\b\b\b\b\b\b\b\b\b\b\b\b\b\b\b\b\b\b\b\b                           \b\b\b\b\b\b\b\b\b\b\b\b\b\b\b\b\b\b\b\b\b\b\b\b\b\b\b 87% 2 - yoochoose-test.dat\b\b\b\b\b\b\b\b\b\b\b\b\b\b\b\b\b\b\b\b\b\b\b\b\b\b\b                           \b\b\b\b\b\b\b\b\b\b\b\b\b\b\b\b\b\b\b\b\b\b\b\b\b\b\b 88% 2 - yoochoose-test.dat\b\b\b\b\b\b\b\b\b\b\b\b\b\b\b\b\b\b\b\b\b\b\b\b\b\b\b                           \b\b\b\b\b\b\b\b\b\b\b\b\b\b\b\b\b\b\b\b\b\b\b\b\b\b\b 89% 2 - yoochoose-test.dat\b\b\b\b\b\b\b\b\b\b\b\b\b\b\b\b\b\b\b\b\b\b\b\b\b\b\b                           \b\b\b\b\b\b\b\b\b\b\b\b\b\b\b\b\b\b\b\b\b\b\b\b\b\b\b 90% 2 - yoochoose-test.dat\b\b\b\b\b\b\b\b\b\b\b\b\b\b\b\b\b\b\b\b\b\b\b\b\b\b\b                           \b\b\b\b\b\b\b\b\b\b\b\b\b\b\b\b\b\b\b\b\b\b\b\b\b\b\b 91% 2 - yoochoose-test.dat\b\b\b\b\b\b\b\b\b\b\b\b\b\b\b\b\b\b\b\b\b\b\b\b\b\b\b                           \b\b\b\b\b\b\b\b\b\b\b\b\b\b\b\b\b\b\b\b\b\b\b\b\b\b\b 92% 2 - yoochoose-test.dat\b\b\b\b\b\b\b\b\b\b\b\b\b\b\b\b\b\b\b\b\b\b\b\b\b\b\b                           \b\b\b\b\b\b\b\b\b\b\b\b\b\b\b\b\b\b\b\b\b\b\b\b\b\b\b 93% 2 - yoochoose-test.dat\b\b\b\b\b\b\b\b\b\b\b\b\b\b\b\b\b\b\b\b\b\b\b\b\b\b\b                           \b\b\b\b\b\b\b\b\b\b\b\b\b\b\b\b\b\b\b\b\b\b\b\b\b\b\b 94% 2 - yoochoose-test.dat\b\b\b\b\b\b\b\b\b\b\b\b\b\b\b\b\b\b\b\b\b\b\b\b\b\b\b                           \b\b\b\b\b\b\b\b\b\b\b\b\b\b\b\b\b\b\b\b\b\b\b\b\b\b\b 95% 2 - yoochoose-test.dat\b\b\b\b\b\b\b\b\b\b\b\b\b\b\b\b\b\b\b\b\b\b\b\b\b\b\b                           \b\b\b\b\b\b\b\b\b\b\b\b\b\b\b\b\b\b\b\b\b\b\b\b\b\b\b 96% 2 - yoochoose-test.dat\b\b\b\b\b\b\b\b\b\b\b\b\b\b\b\b\b\b\b\b\b\b\b\b\b\b\b                           \b\b\b\b\b\b\b\b\b\b\b\b\b\b\b\b\b\b\b\b\b\b\b\b\b\b\b 97% 2 - yoochoose-test.dat\b\b\b\b\b\b\b\b\b\b\b\b\b\b\b\b\b\b\b\b\b\b\b\b\b\b\b                           \b\b\b\b\b\b\b\b\b\b\b\b\b\b\b\b\b\b\b\b\b\b\b\b\b\b\b 98% 2 - yoochoose-test.dat\b\b\b\b\b\b\b\b\b\b\b\b\b\b\b\b\b\b\b\b\b\b\b\b\b\b\b                           \b\b\b\b\b\b\b\b\b\b\b\b\b\b\b\b\b\b\b\b\b\b\b\b\b\b\b 99% 2 - yoochoose-test.dat\b\b\b\b\b\b\b\b\b\b\b\b\b\b\b\b\b\b\b\b\b\b\b\b\b\b\b                           \b\b\b\b\b\b\b\b\b\b\b\b\b\b\b\b\b\b\b\b\b\b\b\b\b\b\b 99% 3\b\b\b\b\b\b      \b\b\b\b\b\bEverything is Ok\n",
            "\n",
            "Files: 4\n",
            "Size:       1914111754\n",
            "Compressed: 287211932\n"
          ],
          "name": "stdout"
        }
      ]
    },
    {
      "cell_type": "markdown",
      "metadata": {
        "id": "gpjJOcqDR945"
      },
      "source": [
        "# Preprocesar dataset"
      ]
    },
    {
      "cell_type": "code",
      "metadata": {
        "id": "7E3mSmYQR9k-"
      },
      "source": [
        "import os\n",
        "import numpy as np\n",
        "import pandas as pd\n",
        "import datetime as dt\n",
        "from matplotlib import pyplot as plt\n",
        "os.environ['TF_CPP_MIN_LOG_LEVEL'] = '3'"
      ],
      "execution_count": 4,
      "outputs": []
    },
    {
      "cell_type": "code",
      "metadata": {
        "id": "WwNyFUAHRssj"
      },
      "source": [
        "src_path = './rsc15/'\n",
        "dst_path   = './data/'"
      ],
      "execution_count": 5,
      "outputs": []
    },
    {
      "cell_type": "code",
      "metadata": {
        "id": "om43PXTNSoLu"
      },
      "source": [
        "def process(src_path, dst_path):\n",
        "  data = pd.read_csv(src_path + 'yoochoose-clicks.dat', sep=',', header=None, usecols=[0,1,2], dtype={0:np.int32, 1:str, 2:np.int64})\n",
        "  data.columns = ['SessionId', 'TimeStr', 'ItemId']\n",
        "\n",
        "  # Add timestamp\n",
        "  data['Time'] = data.TimeStr.apply(lambda x: dt.datetime.strptime(x, '%Y-%m-%dT%H:%M:%S.%fZ').timestamp())\n",
        "  del(data['TimeStr'])\n",
        "\n",
        "  # Filter by session size > 1\n",
        "  session_lengths = data.groupby('SessionId').size()  \n",
        "  data = data[np.in1d(data.SessionId, session_lengths[session_lengths>1].index)]\n",
        "  \n",
        "  # Filter by \"known\" (appears >= 5) items\n",
        "  item_supports = data.groupby('ItemId').size()\n",
        "  data = data[np.in1d(data.ItemId, item_supports[item_supports>=5].index)]\n",
        "  \n",
        "  # Filter by session size > 2\n",
        "  session_lengths = data.groupby('SessionId').size()\n",
        "  data = data[np.in1d(data.SessionId, session_lengths[session_lengths>=2].index)]\n",
        "\n",
        "  # Test split is entire last day\n",
        "  tmax = data.Time.max()\n",
        "  session_max_times = data.groupby('SessionId').Time.max()\n",
        "  \n",
        "  session_train = session_max_times[session_max_times < tmax-86400].index\n",
        "  train = data[np.in1d(data.SessionId, session_train)]\n",
        "  \n",
        "  session_test = session_max_times[session_max_times >= tmax-86400].index\n",
        "  test = data[np.in1d(data.SessionId, session_test)]\n",
        "  test = test[np.in1d(test.ItemId, train.ItemId)]\n",
        "  tslength = test.groupby('SessionId').size()\n",
        "  test = test[np.in1d(test.SessionId, tslength[tslength>=2].index)]\n",
        "  print('Test set\\n\\tEvents: {}\\n\\tSessions: {}\\n\\tItems: {}'.format(len(test), test.SessionId.nunique(), test.ItemId.nunique()))\n",
        "  test.to_csv(dst_path + 'test.tsv', sep='\\t', index=False)\n",
        "\n",
        "  # Validation: second to last day. Train: remainder\n",
        "  tmax = train.Time.max()\n",
        "  session_max_times = train.groupby('SessionId').Time.max()\n",
        "  session_train = session_max_times[session_max_times < tmax-86400].index\n",
        "  session_valid = session_max_times[session_max_times >= tmax-86400].index\n",
        "\n",
        "  train_tr = train[np.in1d(train.SessionId, session_train)]\n",
        "  valid = train[np.in1d(train.SessionId, session_valid)]\n",
        "  valid = valid[np.in1d(valid.ItemId, train_tr.ItemId)]\n",
        "  tslength = valid.groupby('SessionId').size()\n",
        "  valid = valid[np.in1d(valid.SessionId, tslength[tslength>=2].index)]\n",
        "  print('Validation set\\n\\tEvents: {}\\n\\tSessions: {}\\n\\tItems: {}'.format(len(valid), valid.SessionId.nunique(), valid.ItemId.nunique()))\n",
        "  valid.to_csv(dst_path + 'validation.tsv', sep='\\t', index=False)\n",
        "  \n",
        "  \n",
        "  print('Train set\\n\\tEvents: {}\\n\\tSessions: {}\\n\\tItems: {}'.format(len(train_tr), train_tr.SessionId.nunique(), train_tr.ItemId.nunique()))\n",
        "  train_tr.to_csv(dst_path + 'train.tsv', sep='\\t', index=False)\n"
      ],
      "execution_count": 6,
      "outputs": []
    },
    {
      "cell_type": "code",
      "metadata": {
        "id": "nc6wy4phS1v2",
        "colab": {
          "base_uri": "https://localhost:8080/"
        },
        "outputId": "614fe89a-9b94-4b79-c9ae-593deea27e03"
      },
      "source": [
        "process(src_path, dst_path)  # Takes ~10 minutes"
      ],
      "execution_count": 7,
      "outputs": [
        {
          "output_type": "stream",
          "text": [
            "Test set\n",
            "\tEvents: 71222\n",
            "\tSessions: 15324\n",
            "\tItems: 6751\n",
            "Validation set\n",
            "\tEvents: 58233\n",
            "\tSessions: 12372\n",
            "\tItems: 6359\n",
            "Train set\n",
            "\tEvents: 31579006\n",
            "\tSessions: 7953885\n",
            "\tItems: 37483\n"
          ],
          "name": "stdout"
        }
      ]
    },
    {
      "cell_type": "code",
      "metadata": {
        "id": "kx_HdipUDS2z"
      },
      "source": [
        "def train_fraction(df, fraction, prefix=\"train\", path=\"./data/\"):\n",
        "    \n",
        "    length = len(df['ItemId'])\n",
        "    first_session = df.iloc[length - length//fraction].SessionId\n",
        "    df = df.loc[df['SessionId'] >= first_session]\n",
        "    itemids = df['ItemId'].unique()\n",
        "    n_items = len(itemids)\n",
        "\n",
        "    print('Fractioned data set\\n\\tEvents: {}\\n\\tSessions: {}\\n\\tItems: {}'.format(len(df), df.SessionId.nunique(), df.ItemId.nunique()))\n",
        "    filename = path + '{}_{}.tsv'.format(prefix, fraction)\n",
        "    df.to_csv(filename, sep='\\t', index=False)\n",
        "    print(\"Saved as {}\".format(filename))"
      ],
      "execution_count": 8,
      "outputs": []
    },
    {
      "cell_type": "code",
      "metadata": {
        "id": "4r1tWG1gh7eX",
        "colab": {
          "base_uri": "https://localhost:8080/"
        },
        "outputId": "3fe26808-cf76-468b-c3a6-300e1460f001"
      },
      "source": [
        "# Obtain most recent 1/nth fraction of train for demo purposes\n",
        "fraction = 64\n",
        "train = pd.read_csv(dst_path + 'train.tsv', sep='\\t', dtype={'ItemId':np.int64})\n",
        "train_fraction(train, fraction)\n"
      ],
      "execution_count": 9,
      "outputs": [
        {
          "output_type": "stream",
          "text": [
            "Fractioned data set\n",
            "\tEvents: 71391\n",
            "\tSessions: 17450\n",
            "\tItems: 8724\n",
            "Saved as ./data/train_64.tsv\n"
          ],
          "name": "stdout"
        }
      ]
    },
    {
      "cell_type": "markdown",
      "metadata": {
        "id": "ZWgvazVufHs6"
      },
      "source": [
        "# Entrenamiento"
      ]
    },
    {
      "cell_type": "code",
      "metadata": {
        "id": "PSPwVh4AS_GW",
        "colab": {
          "base_uri": "https://localhost:8080/"
        },
        "outputId": "0d0a9285-93e7-4aed-d7c1-7e54a92794cc"
      },
      "source": [
        "!python src/model/gru4rec.py --epochs 200 --train-path ./data/train_64.tsv --dev-path ./data/validation.tsv --test-path ./data/test.tsv"
      ],
      "execution_count": 10,
      "outputs": [
        {
          "output_type": "stream",
          "text": [
            "Model: \"functional_1\"\n",
            "_________________________________________________________________\n",
            "Layer (type)                 Output Shape              Param #   \n",
            "=================================================================\n",
            "input_1 (InputLayer)         [(512, 1, 8725)]          0         \n",
            "_________________________________________________________________\n",
            "GRU (GRU)                    [(512, 100), (512, 100)]  2648100   \n",
            "_________________________________________________________________\n",
            "dropout (Dropout)            (512, 100)                0         \n",
            "_________________________________________________________________\n",
            "dense (Dense)                (512, 8725)               881225    \n",
            "=================================================================\n",
            "Total params: 3,529,325\n",
            "Trainable params: 3,529,325\n",
            "Non-trainable params: 0\n",
            "_________________________________________________________________\n",
            "Epoch 1. Loss: 8.34720:  97% 16929/17451 [00:12<00:00, 1374.11it/s]\n",
            "Epoch 2. Loss: 7.89176:  97% 16929/17451 [00:05<00:00, 3151.11it/s]\n",
            "Epoch 3. Loss: 7.61508:  97% 16929/17451 [00:05<00:00, 3166.60it/s]\n",
            "Epoch 4. Loss: 7.41923:  97% 16929/17451 [00:05<00:00, 3143.59it/s]\n",
            "Epoch 5. Loss: 7.29277:  97% 16929/17451 [00:05<00:00, 3142.54it/s]\n",
            "Epoch 6. Loss: 7.19639:  97% 16929/17451 [00:05<00:00, 3186.77it/s]\n",
            "Epoch 7. Loss: 7.07171:  97% 16929/17451 [00:05<00:00, 3144.83it/s]\n",
            "Epoch 8. Loss: 6.92100:  97% 16929/17451 [00:05<00:00, 3154.67it/s]\n",
            "Epoch 9. Loss: 6.74088:  97% 16929/17451 [00:05<00:00, 3167.20it/s]\n",
            "Epoch 10. Loss: 6.55969:  97% 16929/17451 [00:05<00:00, 3158.26it/s]\n",
            "Epoch 11. Loss: 6.35702:  97% 16929/17451 [00:05<00:00, 3139.17it/s]\n",
            "Epoch 12. Loss: 6.17451:  97% 16929/17451 [00:05<00:00, 3131.47it/s]\n",
            "Epoch 13. Loss: 5.97252:  97% 16929/17451 [00:05<00:00, 3146.35it/s]\n",
            "Epoch 14. Loss: 5.79887:  97% 16929/17451 [00:05<00:00, 3147.08it/s]\n",
            "Epoch 15. Loss: 5.61852:  97% 16929/17451 [00:05<00:00, 3109.23it/s]\n",
            "Epoch 16. Loss: 5.46477:  97% 16929/17451 [00:05<00:00, 3108.22it/s]\n",
            "Epoch 17. Loss: 5.28572:  97% 16929/17451 [00:05<00:00, 3100.61it/s]\n",
            "Epoch 18. Loss: 5.16483:  97% 16929/17451 [00:05<00:00, 3150.25it/s]\n",
            "Epoch 19. Loss: 5.02350:  97% 16929/17451 [00:05<00:00, 3133.45it/s]\n",
            "Epoch 20. Loss: 4.88995:  97% 16929/17451 [00:05<00:00, 3114.86it/s]\n",
            "Epoch 21. Loss: 4.75621:  97% 16929/17451 [00:05<00:00, 3122.34it/s]\n",
            "Epoch 22. Loss: 4.61137:  97% 16929/17451 [00:05<00:00, 3158.98it/s]\n",
            "Epoch 23. Loss: 4.50379:  97% 16929/17451 [00:05<00:00, 3120.76it/s]\n",
            "Epoch 24. Loss: 4.36520:  97% 16929/17451 [00:05<00:00, 3135.34it/s]\n",
            "Epoch 25. Loss: 4.24509:  97% 16929/17451 [00:05<00:00, 3126.62it/s]\n",
            "Epoch 26. Loss: 4.16821:  97% 16929/17451 [00:05<00:00, 3135.64it/s]\n",
            "Epoch 27. Loss: 4.05690:  97% 16929/17451 [00:05<00:00, 3094.75it/s]\n",
            "Epoch 28. Loss: 3.94748:  97% 16929/17451 [00:05<00:00, 3081.45it/s]\n",
            "Epoch 29. Loss: 3.86031:  97% 16929/17451 [00:05<00:00, 3107.90it/s]\n",
            "Epoch 30. Loss: 3.74730:  97% 16929/17451 [00:05<00:00, 3123.10it/s]\n",
            "Epoch 31. Loss: 3.69620:  97% 16929/17451 [00:05<00:00, 3088.29it/s]\n",
            "Epoch 32. Loss: 3.59248:  97% 16929/17451 [00:05<00:00, 3121.42it/s]\n",
            "Epoch 33. Loss: 3.49197:  97% 16929/17451 [00:05<00:00, 3049.33it/s]\n",
            "Epoch 34. Loss: 3.38064:  97% 16929/17451 [00:05<00:00, 3034.73it/s]\n",
            "Epoch 35. Loss: 3.29029:  97% 16929/17451 [00:05<00:00, 3095.25it/s]\n",
            "Epoch 36. Loss: 3.23749:  97% 16929/17451 [00:05<00:00, 3140.54it/s]\n",
            "Epoch 37. Loss: 3.12651:  97% 16929/17451 [00:05<00:00, 3110.78it/s]\n",
            "Epoch 38. Loss: 3.07510:  97% 16929/17451 [00:05<00:00, 3136.07it/s]\n",
            "Epoch 39. Loss: 3.00115:  97% 16929/17451 [00:05<00:00, 3101.19it/s]\n",
            "Epoch 40. Loss: 2.97066:  97% 16929/17451 [00:05<00:00, 3129.99it/s]\n",
            "Epoch 41. Loss: 2.92500:  97% 16929/17451 [00:05<00:00, 3131.17it/s]\n",
            "Epoch 42. Loss: 2.81583:  97% 16929/17451 [00:05<00:00, 3136.49it/s]\n",
            "Epoch 43. Loss: 2.78049:  97% 16929/17451 [00:05<00:00, 3090.83it/s]\n",
            "Epoch 44. Loss: 2.75499:  97% 16929/17451 [00:05<00:00, 3150.53it/s]\n",
            "Epoch 45. Loss: 2.71278:  97% 16929/17451 [00:05<00:00, 3120.17it/s]\n",
            "Epoch 46. Loss: 2.63902:  97% 16929/17451 [00:05<00:00, 3116.05it/s]\n",
            "Epoch 47. Loss: 2.56761:  97% 16929/17451 [00:05<00:00, 3119.48it/s]\n",
            "Epoch 48. Loss: 2.55533:  97% 16929/17451 [00:05<00:00, 3109.45it/s]\n",
            "Epoch 49. Loss: 2.52468:  97% 16929/17451 [00:05<00:00, 3125.29it/s]\n",
            "Epoch 50. Loss: 2.47969:  97% 16929/17451 [00:05<00:00, 3115.22it/s]\n",
            "Epoch 51. Loss: 2.45809:  97% 16929/17451 [00:05<00:00, 3155.13it/s]\n",
            "Epoch 52. Loss: 2.46471:  97% 16929/17451 [00:05<00:00, 3121.30it/s]\n",
            "Epoch 53. Loss: 2.37031:  97% 16929/17451 [00:05<00:00, 3113.65it/s]\n",
            "Epoch 54. Loss: 2.35442:  97% 16929/17451 [00:05<00:00, 3123.71it/s]\n",
            "Epoch 55. Loss: 2.38880:  97% 16929/17451 [00:05<00:00, 3130.89it/s]\n",
            "Epoch 56. Loss: 2.32650:  97% 16929/17451 [00:05<00:00, 3107.39it/s]\n",
            "Epoch 57. Loss: 2.31075:  97% 16929/17451 [00:05<00:00, 3124.52it/s]\n",
            "Epoch 58. Loss: 2.33567:  97% 16929/17451 [00:05<00:00, 3116.93it/s]\n",
            "Epoch 59. Loss: 2.31149:  97% 16929/17451 [00:05<00:00, 3111.20it/s]\n",
            "Epoch 60. Loss: 2.27983:  97% 16929/17451 [00:05<00:00, 3101.77it/s]\n",
            "Epoch 61. Loss: 2.23501:  97% 16929/17451 [00:05<00:00, 3118.66it/s]\n",
            "Epoch 62. Loss: 2.23852:  97% 16929/17451 [00:05<00:00, 3097.32it/s]\n",
            "Epoch 63. Loss: 2.20654:  97% 16929/17451 [00:05<00:00, 3166.07it/s]\n",
            "Epoch 64. Loss: 2.19687:  97% 16929/17451 [00:05<00:00, 3152.53it/s]\n",
            "Epoch 65. Loss: 2.16834:  97% 16929/17451 [00:05<00:00, 3130.67it/s]\n",
            "Epoch 66. Loss: 2.20022:  97% 16929/17451 [00:05<00:00, 3138.76it/s]\n",
            "Epoch 67. Loss: 2.13710:  97% 16929/17451 [00:05<00:00, 3142.58it/s]\n",
            "Epoch 68. Loss: 2.17186:  97% 16929/17451 [00:05<00:00, 3123.94it/s]\n",
            "Epoch 69. Loss: 2.15157:  97% 16929/17451 [00:05<00:00, 3142.77it/s]\n",
            "Epoch 70. Loss: 2.15291:  97% 16929/17451 [00:05<00:00, 3078.27it/s]\n",
            "Epoch 71. Loss: 2.06604:  97% 16929/17451 [00:05<00:00, 3118.12it/s]\n",
            "Epoch 72. Loss: 2.13087:  97% 16929/17451 [00:05<00:00, 3094.43it/s]\n",
            "Epoch 73. Loss: 2.08738:  97% 16929/17451 [00:05<00:00, 3144.15it/s]\n",
            "Epoch 74. Loss: 2.05200:  97% 16929/17451 [00:05<00:00, 3122.14it/s]\n",
            "Epoch 75. Loss: 2.11558:  97% 16929/17451 [00:05<00:00, 3109.43it/s]\n",
            "Epoch 76. Loss: 2.06983:  97% 16929/17451 [00:05<00:00, 3119.64it/s]\n",
            "Epoch 77. Loss: 2.05400:  97% 16929/17451 [00:05<00:00, 3121.26it/s]\n",
            "Epoch 78. Loss: 2.05416:  97% 16929/17451 [00:05<00:00, 3108.25it/s]\n",
            "Epoch 79. Loss: 2.01560:  97% 16929/17451 [00:05<00:00, 3121.95it/s]\n",
            "Epoch 80. Loss: 2.04472:  97% 16929/17451 [00:05<00:00, 3111.27it/s]\n",
            "Epoch 81. Loss: 1.98447:  97% 16929/17451 [00:05<00:00, 3103.95it/s]\n",
            "Epoch 82. Loss: 2.00650:  97% 16929/17451 [00:05<00:00, 3139.71it/s]\n",
            "Epoch 83. Loss: 1.99469:  97% 16929/17451 [00:05<00:00, 3085.62it/s]\n",
            "Epoch 84. Loss: 2.02808:  97% 16929/17451 [00:05<00:00, 3119.75it/s]\n",
            "Epoch 85. Loss: 2.00026:  97% 16929/17451 [00:05<00:00, 3141.26it/s]\n",
            "Epoch 86. Loss: 1.96840:  97% 16929/17451 [00:05<00:00, 3111.45it/s]\n",
            "Epoch 87. Loss: 1.98750:  97% 16929/17451 [00:05<00:00, 3101.86it/s]\n",
            "Epoch 88. Loss: 1.99314:  97% 16929/17451 [00:05<00:00, 3125.76it/s]\n",
            "Epoch 89. Loss: 1.97625:  97% 16929/17451 [00:05<00:00, 3095.54it/s]\n",
            "Epoch 90. Loss: 1.96721:  97% 16929/17451 [00:05<00:00, 3057.59it/s]\n",
            "Epoch 91. Loss: 1.98576:  97% 16929/17451 [00:05<00:00, 3047.43it/s]\n",
            "Epoch 92. Loss: 1.99269:  97% 16929/17451 [00:05<00:00, 3053.69it/s]\n",
            "Epoch 93. Loss: 1.93561:  97% 16929/17451 [00:05<00:00, 3123.51it/s]\n",
            "Epoch 94. Loss: 1.89022:  97% 16929/17451 [00:05<00:00, 3121.58it/s]\n",
            "Epoch 95. Loss: 1.95324:  97% 16929/17451 [00:05<00:00, 3095.18it/s]\n",
            "Epoch 96. Loss: 1.87791:  97% 16929/17451 [00:05<00:00, 3137.29it/s]\n",
            "Epoch 97. Loss: 1.86208:  97% 16929/17451 [00:05<00:00, 3093.14it/s]\n",
            "Epoch 98. Loss: 1.92613:  97% 16929/17451 [00:05<00:00, 3087.83it/s]\n",
            "Epoch 99. Loss: 1.92027:  97% 16929/17451 [00:05<00:00, 3119.03it/s]\n",
            "Epoch 100. Loss: 1.86726:  97% 16929/17451 [00:05<00:00, 3108.51it/s]\n",
            "Epoch 101. Loss: 1.86263:  97% 16929/17451 [00:05<00:00, 3108.18it/s]\n",
            "Epoch 102. Loss: 1.83186:  97% 16929/17451 [00:05<00:00, 3112.15it/s]\n",
            "Epoch 103. Loss: 1.88497:  97% 16929/17451 [00:05<00:00, 3104.99it/s]\n",
            "Epoch 104. Loss: 1.87355:  97% 16929/17451 [00:05<00:00, 3100.70it/s]\n",
            "Epoch 105. Loss: 1.83262:  97% 16929/17451 [00:05<00:00, 3102.15it/s]\n",
            "Epoch 106. Loss: 1.86424:  97% 16929/17451 [00:05<00:00, 3084.49it/s]\n",
            "Epoch 107. Loss: 1.86730:  97% 16929/17451 [00:05<00:00, 3110.04it/s]\n",
            "Epoch 108. Loss: 1.88463:  97% 16929/17451 [00:05<00:00, 3125.12it/s]\n",
            "Epoch 109. Loss: 1.84449:  97% 16929/17451 [00:05<00:00, 3107.15it/s]\n",
            "Epoch 110. Loss: 1.85261:  97% 16929/17451 [00:05<00:00, 3104.20it/s]\n",
            "Epoch 111. Loss: 1.81806:  97% 16929/17451 [00:05<00:00, 3141.41it/s]\n",
            "Epoch 112. Loss: 1.80264:  97% 16929/17451 [00:05<00:00, 3106.60it/s]\n",
            "Epoch 113. Loss: 1.84635:  97% 16929/17451 [00:05<00:00, 3108.36it/s]\n",
            "Epoch 114. Loss: 1.81816:  97% 16929/17451 [00:05<00:00, 3121.13it/s]\n",
            "Epoch 115. Loss: 1.76689:  97% 16929/17451 [00:05<00:00, 3122.05it/s]\n",
            "Epoch 116. Loss: 1.79842:  97% 16929/17451 [00:05<00:00, 3119.80it/s]\n",
            "Epoch 117. Loss: 1.84573:  97% 16929/17451 [00:05<00:00, 3096.56it/s]\n",
            "Epoch 118. Loss: 1.81990:  97% 16929/17451 [00:05<00:00, 3110.34it/s]\n",
            "Epoch 119. Loss: 1.79921:  97% 16929/17451 [00:05<00:00, 3104.84it/s]\n",
            "Epoch 120. Loss: 1.78299:  97% 16929/17451 [00:05<00:00, 3117.66it/s]\n",
            "Epoch 121. Loss: 1.76127:  97% 16929/17451 [00:05<00:00, 3151.76it/s]\n",
            "Epoch 122. Loss: 1.80173:  97% 16929/17451 [00:05<00:00, 3148.38it/s]\n",
            "Epoch 123. Loss: 1.74765:  97% 16929/17451 [00:05<00:00, 3099.61it/s]\n",
            "Epoch 124. Loss: 1.77970:  97% 16929/17451 [00:05<00:00, 3134.14it/s]\n",
            "Epoch 125. Loss: 1.76025:  97% 16929/17451 [00:05<00:00, 3114.55it/s]\n",
            "Epoch 126. Loss: 1.73230:  97% 16929/17451 [00:05<00:00, 3134.65it/s]\n",
            "Epoch 127. Loss: 1.72223:  97% 16929/17451 [00:05<00:00, 3134.59it/s]\n",
            "Epoch 128. Loss: 1.78173:  97% 16929/17451 [00:05<00:00, 3099.17it/s]\n",
            "Epoch 129. Loss: 1.76879:  97% 16929/17451 [00:05<00:00, 3109.77it/s]\n",
            "Epoch 130. Loss: 1.74070:  97% 16929/17451 [00:05<00:00, 3114.34it/s]\n",
            "Epoch 131. Loss: 1.82147:  97% 16929/17451 [00:05<00:00, 3107.63it/s]\n",
            "Epoch 132. Loss: 1.72958:  97% 16929/17451 [00:05<00:00, 3121.49it/s]\n",
            "Epoch 133. Loss: 1.74450:  97% 16929/17451 [00:05<00:00, 3119.55it/s]\n",
            "Epoch 134. Loss: 1.72376:  97% 16929/17451 [00:05<00:00, 3093.67it/s]\n",
            "Epoch 135. Loss: 1.69746:  97% 16929/17451 [00:05<00:00, 3084.81it/s]\n",
            "Epoch 136. Loss: 1.74468:  97% 16929/17451 [00:05<00:00, 3100.23it/s]\n",
            "Epoch 137. Loss: 1.66065:  97% 16929/17451 [00:05<00:00, 3102.95it/s]\n",
            "Epoch 138. Loss: 1.69017:  97% 16929/17451 [00:05<00:00, 3108.52it/s]\n",
            "Epoch 139. Loss: 1.74770:  97% 16929/17451 [00:05<00:00, 3076.59it/s]\n",
            "Epoch 140. Loss: 1.69856:  97% 16929/17451 [00:05<00:00, 3079.76it/s]\n",
            "Epoch 141. Loss: 1.69443:  97% 16929/17451 [00:05<00:00, 3092.71it/s]\n",
            "Epoch 142. Loss: 1.73606:  97% 16929/17451 [00:05<00:00, 3105.71it/s]\n",
            "Epoch 143. Loss: 1.73582:  97% 16929/17451 [00:05<00:00, 3102.25it/s]\n",
            "Epoch 144. Loss: 1.69424:  97% 16929/17451 [00:05<00:00, 3089.05it/s]\n",
            "Epoch 145. Loss: 1.65413:  97% 16929/17451 [00:05<00:00, 3088.55it/s]\n",
            "Epoch 146. Loss: 1.71001:  97% 16929/17451 [00:05<00:00, 3120.77it/s]\n",
            "Epoch 147. Loss: 1.71470:  97% 16929/17451 [00:05<00:00, 3063.00it/s]\n",
            "Epoch 148. Loss: 1.69920:  97% 16929/17451 [00:05<00:00, 3009.74it/s]\n",
            "Epoch 149. Loss: 1.63803:  97% 16929/17451 [00:05<00:00, 3037.70it/s]\n",
            "Epoch 150. Loss: 1.65431:  97% 16929/17451 [00:05<00:00, 3078.17it/s]\n",
            "Epoch 151. Loss: 1.64669:  97% 16929/17451 [00:05<00:00, 3119.08it/s]\n",
            "Epoch 152. Loss: 1.72544:  97% 16929/17451 [00:05<00:00, 3120.50it/s]\n",
            "Epoch 153. Loss: 1.63497:  97% 16929/17451 [00:05<00:00, 3072.46it/s]\n",
            "Epoch 154. Loss: 1.70008:  97% 16929/17451 [00:05<00:00, 3099.75it/s]\n",
            "Epoch 155. Loss: 1.69409:  97% 16929/17451 [00:05<00:00, 3078.64it/s]\n",
            "Epoch 156. Loss: 1.74554:  97% 16929/17451 [00:05<00:00, 3085.86it/s]\n",
            "Epoch 157. Loss: 1.63951:  97% 16929/17451 [00:05<00:00, 3084.80it/s]\n",
            "Epoch 158. Loss: 1.63027:  97% 16929/17451 [00:05<00:00, 3123.27it/s]\n",
            "Epoch 159. Loss: 1.64542:  97% 16929/17451 [00:05<00:00, 3112.42it/s]\n",
            "Epoch 160. Loss: 1.67154:  97% 16929/17451 [00:05<00:00, 3119.25it/s]\n",
            "Epoch 161. Loss: 1.62528:  97% 16929/17451 [00:05<00:00, 3123.09it/s]\n",
            "Epoch 162. Loss: 1.67931:  97% 16929/17451 [00:05<00:00, 3144.53it/s]\n",
            "Epoch 163. Loss: 1.64556:  97% 16929/17451 [00:05<00:00, 3090.80it/s]\n",
            "Epoch 164. Loss: 1.63465:  97% 16929/17451 [00:05<00:00, 3098.72it/s]\n",
            "Epoch 165. Loss: 1.67622:  97% 16929/17451 [00:05<00:00, 3100.03it/s]\n",
            "Epoch 166. Loss: 1.63324:  97% 16929/17451 [00:05<00:00, 3105.27it/s]\n",
            "Epoch 167. Loss: 1.65427:  97% 16929/17451 [00:05<00:00, 3086.09it/s]\n",
            "Epoch 168. Loss: 1.63585:  97% 16929/17451 [00:05<00:00, 3113.90it/s]\n",
            "Epoch 169. Loss: 1.64748:  97% 16929/17451 [00:05<00:00, 3105.67it/s]\n",
            "Epoch 170. Loss: 1.63849:  97% 16929/17451 [00:05<00:00, 3114.29it/s]\n",
            "Epoch 171. Loss: 1.63585:  97% 16929/17451 [00:05<00:00, 3111.01it/s]\n",
            "Epoch 172. Loss: 1.66789:  97% 16929/17451 [00:05<00:00, 3115.69it/s]\n",
            "Epoch 173. Loss: 1.62221:  97% 16929/17451 [00:05<00:00, 3109.20it/s]\n",
            "Epoch 174. Loss: 1.57332:  97% 16929/17451 [00:05<00:00, 3128.91it/s]\n",
            "Epoch 175. Loss: 1.63377:  97% 16929/17451 [00:05<00:00, 3100.69it/s]\n",
            "Epoch 176. Loss: 1.58841:  97% 16929/17451 [00:05<00:00, 3090.23it/s]\n",
            "Epoch 177. Loss: 1.62656:  97% 16929/17451 [00:05<00:00, 3096.24it/s]\n",
            "Epoch 178. Loss: 1.64577:  97% 16929/17451 [00:05<00:00, 3092.05it/s]\n",
            "Epoch 179. Loss: 1.65739:  97% 16929/17451 [00:05<00:00, 3087.41it/s]\n",
            "Epoch 180. Loss: 1.67895:  97% 16929/17451 [00:05<00:00, 3098.38it/s]\n",
            "Epoch 181. Loss: 1.65151:  97% 16929/17451 [00:05<00:00, 3095.18it/s]\n",
            "Epoch 182. Loss: 1.59364:  97% 16929/17451 [00:05<00:00, 3119.28it/s]\n",
            "Epoch 183. Loss: 1.59585:  97% 16929/17451 [00:05<00:00, 3106.77it/s]\n",
            "Epoch 184. Loss: 1.55293:  97% 16929/17451 [00:05<00:00, 3108.04it/s]\n",
            "Epoch 185. Loss: 1.62125:  97% 16929/17451 [00:05<00:00, 3123.38it/s]\n",
            "Epoch 186. Loss: 1.56343:  97% 16929/17451 [00:05<00:00, 3107.81it/s]\n",
            "Epoch 187. Loss: 1.59680:  97% 16929/17451 [00:05<00:00, 3102.49it/s]\n",
            "Epoch 188. Loss: 1.60174:  97% 16929/17451 [00:05<00:00, 3110.46it/s]\n",
            "Epoch 189. Loss: 1.66010:  97% 16929/17451 [00:05<00:00, 3101.52it/s]\n",
            "Epoch 190. Loss: 1.58227:  97% 16929/17451 [00:05<00:00, 3117.30it/s]\n",
            "Epoch 191. Loss: 1.63753:  97% 16929/17451 [00:05<00:00, 3083.58it/s]\n",
            "Epoch 192. Loss: 1.63502:  97% 16929/17451 [00:05<00:00, 3107.50it/s]\n",
            "Epoch 193. Loss: 1.54084:  97% 16929/17451 [00:05<00:00, 3087.91it/s]\n",
            "Epoch 194. Loss: 1.58546:  97% 16929/17451 [00:05<00:00, 3084.77it/s]\n",
            "Epoch 195. Loss: 1.56871:  97% 16929/17451 [00:05<00:00, 3110.26it/s]\n",
            "Epoch 196. Loss: 1.61074:  97% 16929/17451 [00:05<00:00, 3088.58it/s]\n",
            "Epoch 197. Loss: 1.56743:  97% 16929/17451 [00:05<00:00, 3098.12it/s]\n",
            "Epoch 198. Loss: 1.63158:  97% 16929/17451 [00:05<00:00, 3113.94it/s]\n",
            "Epoch 199. Loss: 1.56568:  97% 16929/17451 [00:05<00:00, 3094.31it/s]\n",
            "Evaluating model...\n",
            "\t - Recall@20 epoch 200: 0.461575\n",
            "\t - MRR@20    epoch 200: 0.162870\n",
            "\n"
          ],
          "name": "stdout"
        }
      ]
    },
    {
      "cell_type": "markdown",
      "metadata": {
        "id": "tk9EgsON-8Sr"
      },
      "source": [
        "## Resultados\n",
        "\n",
        "Luego de 200 épocas, deberías obtener un desempeño similar al siguiente:\n",
        "\n",
        "\t - Recall@20: 0.47\n",
        "\t - MRR@20   : 0.16\n",
        "\n",
        "\n",
        "Para replicar resultados del paper, utiliza el set de entrenamiento completo"
      ]
    },
    {
      "cell_type": "markdown",
      "metadata": {
        "id": "njfQIzqi_KK8"
      },
      "source": [
        "## Aprovechando información implícita: Dwell Time\n",
        "\n",
        "Podemos utilizar el tiempo que cada item fue visitado por cada usuario para realizar mejores recomendaciones.\n",
        "\n",
        "El supuesto es: a mayor tiempo de permanencia (dwell time) en un item, más interesado está el usuario en dicho item.\n",
        "\n",
        "Se hará item boosting en el set de entrenamiento."
      ]
    },
    {
      "cell_type": "code",
      "metadata": {
        "id": "lh9fruDcuVYg"
      },
      "source": [
        "def preprocess_df(df):    \n",
        "    n_items = len(df['ItemId'].unique())\n",
        "    aux = list(df['ItemId'].unique())\n",
        "    itemids = np.array(aux)\n",
        "    itemidmap = pd.Series(data=np.arange(n_items), index=itemids)  # (id_item => (0, n_items))\n",
        "    \n",
        "    item_key = 'ItemId'\n",
        "    session_key = 'SessionId'\n",
        "    time_key = 'Time'\n",
        "    \n",
        "    data = pd.merge(df, pd.DataFrame({item_key:itemids, 'ItemIdx':itemidmap[itemids].values}), on=item_key, how='inner')\n",
        "    data.sort_values([session_key, time_key], inplace=True)\n",
        "\n",
        "    length = len(data['ItemId'])\n",
        "        \n",
        "    return data"
      ],
      "execution_count": 11,
      "outputs": []
    },
    {
      "cell_type": "code",
      "metadata": {
        "id": "j5O-1YDR_vNY"
      },
      "source": [
        "def compute_dwell_time(df):\n",
        "    times_t = np.roll(df['Time'], -1) # Take time row\n",
        "    times_dt  = df['Time']            # Copy, then displace by one\n",
        "    diffs = np.subtract(times_t, times_dt) # Take pairwise difference\n",
        "    length = len(df['ItemId'])\n",
        "    \n",
        "    # cummulative offset start for each session\n",
        "    offset_sessions = np.zeros(df['SessionId'].nunique()+1, dtype=np.int32)\n",
        "    offset_sessions[1:] = df.groupby('SessionId').size().cumsum() \n",
        "    offset_sessions = offset_sessions - 1\n",
        "    offset_sessions = np.roll(offset_sessions, -1)\n",
        "    \n",
        "    np.put(diffs.values, offset_sessions, np.zeros((offset_sessions.shape)), mode='raise')\n",
        "\n",
        "    return diffs"
      ],
      "execution_count": 12,
      "outputs": []
    },
    {
      "cell_type": "code",
      "metadata": {
        "id": "7vFvOPH9Bfeq"
      },
      "source": [
        "def get_distribution(dts):\n",
        "    filtered = np.array(list(filter(lambda x: int(x) != 0, dts)))\n",
        "    pd_dts = pd.DataFrame(filtered)\n",
        "    pd_dts.boxplot(vert=False, showfliers=False)\n",
        "    plt.xlabel(\"Seconds\")\n",
        "    plt.yticks([])\n",
        "    plt.title(\"Dwell time distribution for RSC15 dataset\")\n",
        "    plt.show()\n",
        "    pd_dts.describe()"
      ],
      "execution_count": 13,
      "outputs": []
    },
    {
      "cell_type": "code",
      "metadata": {
        "id": "pPxWD0xPBfVE"
      },
      "source": [
        "def join_dwell_reps(df, dt, threshold=2000):\n",
        "    # Calculate d_ti/threshold + 1 then add column to dataFrame\n",
        "    dt //= threshold\n",
        "    dt += 1   \n",
        "    df['DwellReps'] = pd.Series(dt.astype(np.int64), index=dt.index)"
      ],
      "execution_count": 14,
      "outputs": []
    },
    {
      "cell_type": "code",
      "metadata": {
        "id": "jYX1RjhQ_wZG"
      },
      "source": [
        "def augment(df):    \n",
        "    col_names = list(df.columns.values)[:3]\n",
        "    augmented = np.repeat(df.values, df['DwellReps'], axis=0) \n",
        "    augmented = pd.DataFrame(data=augmented[:,:3],\n",
        "                             columns=col_names)\n",
        "    dtype = {'SessionId': np.int64, \n",
        "             'ItemId': np.int64, \n",
        "             'Time': np.float32}\n",
        "    \n",
        "    for k, v in dtype.items():\n",
        "        augmented[k] = augmented[k].astype(v)                  \n",
        "    \n",
        "    return augmented"
      ],
      "execution_count": 15,
      "outputs": []
    },
    {
      "cell_type": "code",
      "metadata": {
        "id": "veILDG2X_yJm"
      },
      "source": [
        "new_df = preprocess_df(train)\n",
        "dts = compute_dwell_time(new_df)"
      ],
      "execution_count": 16,
      "outputs": []
    },
    {
      "cell_type": "code",
      "metadata": {
        "id": "7xIJMF5aABmF",
        "colab": {
          "base_uri": "https://localhost:8080/",
          "height": 315
        },
        "outputId": "12143acc-e2fc-4cae-f077-c9b6c39bf5bb"
      },
      "source": [
        "# Visualize\n",
        "get_distribution(dts)"
      ],
      "execution_count": 17,
      "outputs": [
        {
          "output_type": "display_data",
          "data": {
            "image/png": "[encoded data removed]",
            "text/plain": [
              "<Figure size 432x288 with 1 Axes>"
            ]
          },
          "metadata": {
            "tags": [],
            "needs_background": "light"
          }
        }
      ]
    },
    {
      "cell_type": "code",
      "metadata": {
        "id": "Y4mZ3YB0Ai4q"
      },
      "source": [
        "# threshold is a hyperparameter\n",
        "join_dwell_reps(new_df, dts, threshold=75)\n",
        "\n",
        "# augment the sessions copying each entry an additional (dwellReps[i]-1) times\n",
        "df_aug = augment(new_df)\n",
        "df_aug.to_csv(\"./data/augmented_train.csv\", index=False, sep='\\t')"
      ],
      "execution_count": 18,
      "outputs": []
    },
    {
      "cell_type": "code",
      "metadata": {
        "id": "X1N36STyCrrs",
        "colab": {
          "base_uri": "https://localhost:8080/"
        },
        "outputId": "b07dedbe-da37-4147-df63-e40cc0256f47"
      },
      "source": [
        "# retrieve 1/n most recent fraction for demo purposes \n",
        "# (note it is a smaller fraction due to the inflation process)\n",
        "fraction = 64*7\n",
        "train_fraction(df_aug, fraction, prefix='aug_train')"
      ],
      "execution_count": 19,
      "outputs": [
        {
          "output_type": "stream",
          "text": [
            "Fractioned data set\n",
            "\tEvents: 151923\n",
            "\tSessions: 16351\n",
            "\tItems: 8484\n",
            "Saved as ./data/aug_train_448.tsv\n"
          ],
          "name": "stdout"
        }
      ]
    },
    {
      "cell_type": "markdown",
      "metadata": {
        "id": "v2E2q1ArD5Sr"
      },
      "source": [
        "## Entrenamiento con Dwell Time"
      ]
    },
    {
      "cell_type": "code",
      "metadata": {
        "id": "HNq8lpRADWZ2",
        "colab": {
          "base_uri": "https://localhost:8080/"
        },
        "outputId": "d162de49-755c-4310-8eca-26bd9ea7c0eb"
      },
      "source": [
        "!python src/model/gru4rec.py --epochs 200 --train-path ./data/aug_train_448.tsv --dev-path ./data/validation.tsv --test-path ./data/test.tsv"
      ],
      "execution_count": 20,
      "outputs": [
        {
          "output_type": "stream",
          "text": [
            "Model: \"functional_1\"\n",
            "_________________________________________________________________\n",
            "Layer (type)                 Output Shape              Param #   \n",
            "=================================================================\n",
            "input_1 (InputLayer)         [(512, 1, 8485)]          0         \n",
            "_________________________________________________________________\n",
            "GRU (GRU)                    [(512, 100), (512, 100)]  2576100   \n",
            "_________________________________________________________________\n",
            "dropout (Dropout)            (512, 100)                0         \n",
            "_________________________________________________________________\n",
            "dense (Dense)                (512, 8485)               856985    \n",
            "=================================================================\n",
            "Total params: 3,433,085\n",
            "Trainable params: 3,433,085\n",
            "Non-trainable params: 0\n",
            "_________________________________________________________________\n",
            "Epoch 1. Loss: 7.74744:  97% 15835/16352 [00:20<00:00, 779.03it/s] \n",
            "Epoch 2. Loss: 7.08154:  97% 15835/16352 [00:13<00:00, 1217.90it/s]\n",
            "Epoch 3. Loss: 6.38937:  97% 15835/16352 [00:12<00:00, 1218.70it/s]\n",
            "Epoch 4. Loss: 5.54154:  97% 15835/16352 [00:12<00:00, 1218.22it/s]\n",
            "Epoch 5. Loss: 4.80728:  97% 15835/16352 [00:12<00:00, 1219.00it/s]\n",
            "Epoch 6. Loss: 4.25005:  97% 15835/16352 [00:12<00:00, 1219.77it/s]\n",
            "Epoch 7. Loss: 3.81445:  97% 15835/16352 [00:12<00:00, 1226.52it/s]\n",
            "Epoch 8. Loss: 3.46027:  97% 15835/16352 [00:12<00:00, 1221.30it/s]\n",
            "Epoch 9. Loss: 3.17851:  97% 15835/16352 [00:12<00:00, 1219.05it/s]\n",
            "Epoch 10. Loss: 2.93023:  97% 15835/16352 [00:12<00:00, 1224.85it/s]\n",
            "Epoch 11. Loss: 2.79273:  97% 15835/16352 [00:12<00:00, 1229.07it/s]\n",
            "Epoch 12. Loss: 2.61132:  97% 15835/16352 [00:13<00:00, 1217.22it/s]\n",
            "Epoch 13. Loss: 2.48160:  97% 15835/16352 [00:12<00:00, 1221.86it/s]\n",
            "Epoch 14. Loss: 2.38398:  97% 15835/16352 [00:12<00:00, 1219.81it/s]\n",
            "Epoch 15. Loss: 2.28797:  97% 15835/16352 [00:12<00:00, 1220.48it/s]\n",
            "Epoch 16. Loss: 2.19049:  97% 15835/16352 [00:13<00:00, 1217.16it/s]\n",
            "Epoch 17. Loss: 2.08874:  97% 15835/16352 [00:12<00:00, 1225.45it/s]\n",
            "Epoch 18. Loss: 2.00666:  97% 15835/16352 [00:12<00:00, 1220.88it/s]\n",
            "Epoch 19. Loss: 1.94892:  97% 15835/16352 [00:12<00:00, 1219.57it/s]\n",
            "Epoch 20. Loss: 1.89112:  97% 15835/16352 [00:13<00:00, 1211.52it/s]\n",
            "Epoch 21. Loss: 1.83634:  97% 15835/16352 [00:13<00:00, 1217.44it/s]\n",
            "Epoch 22. Loss: 1.79069:  97% 15835/16352 [00:13<00:00, 1217.36it/s]\n",
            "Epoch 23. Loss: 1.75382:  97% 15835/16352 [00:12<00:00, 1222.95it/s]\n",
            "Epoch 24. Loss: 1.69763:  97% 15835/16352 [00:12<00:00, 1223.76it/s]\n",
            "Epoch 25. Loss: 1.65750:  97% 15835/16352 [00:13<00:00, 1193.52it/s]\n",
            "Epoch 26. Loss: 1.53449:  97% 15835/16352 [00:12<00:00, 1220.34it/s]\n",
            "Epoch 27. Loss: 1.56842:  97% 15835/16352 [00:13<00:00, 1216.22it/s]\n",
            "Epoch 28. Loss: 1.53328:  97% 15835/16352 [00:13<00:00, 1212.23it/s]\n",
            "Epoch 29. Loss: 1.46777:  97% 15835/16352 [00:12<00:00, 1220.41it/s]\n",
            "Epoch 30. Loss: 1.47196:  97% 15835/16352 [00:12<00:00, 1221.41it/s]\n",
            "Epoch 31. Loss: 1.42218:  97% 15835/16352 [00:12<00:00, 1224.66it/s]\n",
            "Epoch 32. Loss: 1.43124:  97% 15835/16352 [00:12<00:00, 1225.00it/s]\n",
            "Epoch 33. Loss: 1.42281:  97% 15835/16352 [00:12<00:00, 1222.89it/s]\n",
            "Epoch 34. Loss: 1.35678:  97% 15835/16352 [00:12<00:00, 1219.16it/s]\n",
            "Epoch 35. Loss: 1.37766:  97% 15835/16352 [00:12<00:00, 1224.15it/s]\n",
            "Epoch 36. Loss: 1.37703:  97% 15835/16352 [00:12<00:00, 1221.27it/s]\n",
            "Epoch 37. Loss: 1.34137:  97% 15835/16352 [00:12<00:00, 1225.13it/s]\n",
            "Epoch 38. Loss: 1.35553:  97% 15835/16352 [00:12<00:00, 1222.45it/s]\n",
            "Epoch 39. Loss: 1.35473:  97% 15835/16352 [00:12<00:00, 1220.81it/s]\n",
            "Epoch 40. Loss: 1.29873:  97% 15835/16352 [00:12<00:00, 1218.65it/s]\n",
            "Epoch 41. Loss: 1.25063:  97% 15835/16352 [00:12<00:00, 1218.66it/s]\n",
            "Epoch 42. Loss: 1.24100:  97% 15835/16352 [00:12<00:00, 1224.12it/s]\n",
            "Epoch 43. Loss: 1.28313:  97% 15835/16352 [00:12<00:00, 1218.97it/s]\n",
            "Epoch 44. Loss: 1.27491:  97% 15835/16352 [00:13<00:00, 1214.99it/s]\n",
            "Epoch 45. Loss: 1.26829:  97% 15835/16352 [00:12<00:00, 1219.48it/s]\n",
            "Epoch 46. Loss: 1.23764:  97% 15835/16352 [00:12<00:00, 1219.98it/s]\n",
            "Epoch 47. Loss: 1.25501:  97% 15835/16352 [00:13<00:00, 1217.72it/s]\n",
            "Epoch 48. Loss: 1.25562:  97% 15835/16352 [00:13<00:00, 1217.88it/s]\n",
            "Epoch 49. Loss: 1.22684:  97% 15835/16352 [00:13<00:00, 1190.38it/s]\n",
            "Epoch 50. Loss: 1.17366:  97% 15835/16352 [00:13<00:00, 1218.01it/s]\n",
            "Epoch 51. Loss: 1.23062:  97% 15835/16352 [00:12<00:00, 1224.71it/s]\n",
            "Epoch 52. Loss: 1.18935:  97% 15835/16352 [00:12<00:00, 1218.44it/s]\n",
            "Epoch 53. Loss: 1.20492:  97% 15835/16352 [00:12<00:00, 1219.65it/s]\n",
            "Epoch 54. Loss: 1.13800:  97% 15835/16352 [00:12<00:00, 1219.76it/s]\n",
            "Epoch 55. Loss: 1.20650:  97% 15835/16352 [00:12<00:00, 1220.14it/s]\n",
            "Epoch 56. Loss: 1.17694:  97% 15835/16352 [00:12<00:00, 1225.05it/s]\n",
            "Epoch 57. Loss: 1.12781:  97% 15835/16352 [00:13<00:00, 1217.40it/s]\n",
            "Epoch 58. Loss: 1.18508:  97% 15835/16352 [00:12<00:00, 1221.62it/s]\n",
            "Epoch 59. Loss: 1.18431:  97% 15835/16352 [00:13<00:00, 1218.01it/s]\n",
            "Epoch 60. Loss: 1.12816:  97% 15835/16352 [00:13<00:00, 1216.12it/s]\n",
            "Epoch 61. Loss: 1.16922:  97% 15835/16352 [00:12<00:00, 1219.29it/s]\n",
            "Epoch 62. Loss: 1.11923:  97% 15835/16352 [00:12<00:00, 1219.67it/s]\n",
            "Epoch 63. Loss: 1.13378:  97% 15835/16352 [00:12<00:00, 1220.93it/s]\n",
            "Epoch 64. Loss: 1.16449:  97% 15835/16352 [00:13<00:00, 1218.00it/s]\n",
            "Epoch 65. Loss: 1.16765:  97% 15835/16352 [00:12<00:00, 1218.43it/s]\n",
            "Epoch 66. Loss: 1.17534:  97% 15835/16352 [00:13<00:00, 1217.75it/s]\n",
            "Epoch 67. Loss: 1.09360:  97% 15835/16352 [00:13<00:00, 1211.56it/s]\n",
            "Epoch 68. Loss: 1.10170:  97% 15835/16352 [00:12<00:00, 1223.44it/s]\n",
            "Epoch 69. Loss: 1.14230:  97% 15835/16352 [00:12<00:00, 1222.36it/s]\n",
            "Epoch 70. Loss: 1.07854:  97% 15835/16352 [00:12<00:00, 1220.91it/s]\n",
            "Epoch 71. Loss: 1.08488:  97% 15835/16352 [00:12<00:00, 1221.52it/s]\n",
            "Epoch 72. Loss: 1.12738:  97% 15835/16352 [00:12<00:00, 1219.54it/s]\n",
            "Epoch 73. Loss: 1.06726:  97% 15835/16352 [00:13<00:00, 1185.98it/s]\n",
            "Epoch 74. Loss: 1.10300:  97% 15835/16352 [00:13<00:00, 1216.00it/s]\n",
            "Epoch 75. Loss: 1.14741:  97% 15835/16352 [00:12<00:00, 1221.46it/s]\n",
            "Epoch 76. Loss: 1.12124:  97% 15835/16352 [00:13<00:00, 1217.50it/s]\n",
            "Epoch 77. Loss: 1.06728:  97% 15835/16352 [00:13<00:00, 1214.70it/s]\n",
            "Epoch 78. Loss: 1.07090:  97% 15835/16352 [00:12<00:00, 1219.37it/s]\n",
            "Epoch 79. Loss: 1.06659:  97% 15835/16352 [00:13<00:00, 1217.77it/s]\n",
            "Epoch 80. Loss: 1.14642:  97% 15835/16352 [00:13<00:00, 1216.71it/s]\n",
            "Epoch 81. Loss: 1.04261:  97% 15835/16352 [00:13<00:00, 1215.74it/s]\n",
            "Epoch 82. Loss: 1.07019:  97% 15835/16352 [00:12<00:00, 1218.50it/s]\n",
            "Epoch 83. Loss: 1.07347:  97% 15835/16352 [00:12<00:00, 1218.37it/s]\n",
            "Epoch 84. Loss: 1.10112:  97% 15835/16352 [00:13<00:00, 1214.88it/s]\n",
            "Epoch 85. Loss: 1.07580:  97% 15835/16352 [00:12<00:00, 1221.88it/s]\n",
            "Epoch 86. Loss: 1.07134:  97% 15835/16352 [00:12<00:00, 1220.48it/s]\n",
            "Epoch 87. Loss: 1.08025:  97% 15835/16352 [00:12<00:00, 1221.74it/s]\n",
            "Epoch 88. Loss: 1.06416:  97% 15835/16352 [00:12<00:00, 1221.58it/s]\n",
            "Epoch 89. Loss: 1.07704:  97% 15835/16352 [00:13<00:00, 1213.96it/s]\n",
            "Epoch 90. Loss: 1.04934:  97% 15835/16352 [00:12<00:00, 1219.28it/s]\n",
            "Epoch 91. Loss: 1.07633:  97% 15835/16352 [00:13<00:00, 1212.32it/s]\n",
            "Epoch 92. Loss: 1.03921:  97% 15835/16352 [00:12<00:00, 1218.18it/s]\n",
            "Epoch 93. Loss: 1.02719:  97% 15835/16352 [00:12<00:00, 1219.74it/s]\n",
            "Epoch 94. Loss: 1.04537:  97% 15835/16352 [00:13<00:00, 1216.52it/s]\n",
            "Epoch 95. Loss: 1.06800:  97% 15835/16352 [00:12<00:00, 1228.46it/s]\n",
            "Epoch 96. Loss: 1.06883:  97% 15835/16352 [00:13<00:00, 1215.94it/s]\n",
            "Epoch 97. Loss: 1.00610:  97% 15835/16352 [00:13<00:00, 1193.05it/s]\n",
            "Epoch 98. Loss: 1.04275:  97% 15835/16352 [00:12<00:00, 1220.88it/s]\n",
            "Epoch 99. Loss: 1.04258:  97% 15835/16352 [00:12<00:00, 1226.48it/s]\n",
            "Epoch 100. Loss: 1.04317:  97% 15835/16352 [00:12<00:00, 1221.14it/s]\n",
            "Epoch 101. Loss: 1.08030:  97% 15835/16352 [00:12<00:00, 1225.29it/s]\n",
            "Epoch 102. Loss: 1.03324:  97% 15835/16352 [00:12<00:00, 1228.83it/s]\n",
            "Epoch 103. Loss: 1.06751:  97% 15835/16352 [00:12<00:00, 1218.59it/s]\n",
            "Epoch 104. Loss: 0.98979:  97% 15835/16352 [00:12<00:00, 1223.25it/s]\n",
            "Epoch 105. Loss: 1.03625:  97% 15835/16352 [00:12<00:00, 1222.94it/s]\n",
            "Epoch 106. Loss: 1.03254:  97% 15835/16352 [00:12<00:00, 1222.35it/s]\n",
            "Epoch 107. Loss: 1.00367:  97% 15835/16352 [00:12<00:00, 1219.78it/s]\n",
            "Epoch 108. Loss: 1.00447:  97% 15835/16352 [00:12<00:00, 1220.50it/s]\n",
            "Epoch 109. Loss: 0.93959:  97% 15835/16352 [00:13<00:00, 1216.32it/s]\n",
            "Epoch 110. Loss: 0.98913:  97% 15835/16352 [00:12<00:00, 1222.34it/s]\n",
            "Epoch 111. Loss: 0.99846:  97% 15835/16352 [00:12<00:00, 1222.85it/s]\n",
            "Epoch 112. Loss: 0.98622:  97% 15835/16352 [00:12<00:00, 1223.53it/s]\n",
            "Epoch 113. Loss: 1.03858:  97% 15835/16352 [00:12<00:00, 1220.23it/s]\n",
            "Epoch 114. Loss: 0.99282:  97% 15835/16352 [00:13<00:00, 1203.29it/s]\n",
            "Epoch 115. Loss: 1.00034:  97% 15835/16352 [00:12<00:00, 1223.06it/s]\n",
            "Epoch 116. Loss: 0.96497:  97% 15835/16352 [00:12<00:00, 1227.75it/s]\n",
            "Epoch 117. Loss: 1.02399:  97% 15835/16352 [00:12<00:00, 1229.34it/s]\n",
            "Epoch 118. Loss: 1.03490:  97% 15835/16352 [00:12<00:00, 1220.43it/s]\n",
            "Epoch 119. Loss: 1.01249:  97% 15835/16352 [00:12<00:00, 1229.15it/s]\n",
            "Epoch 120. Loss: 1.06174:  97% 15835/16352 [00:12<00:00, 1219.48it/s]\n",
            "Epoch 121. Loss: 0.99328:  97% 15835/16352 [00:13<00:00, 1186.55it/s]\n",
            "Epoch 122. Loss: 1.07394:  97% 15835/16352 [00:12<00:00, 1222.87it/s]\n",
            "Epoch 123. Loss: 0.95922:  97% 15835/16352 [00:12<00:00, 1223.29it/s]\n",
            "Epoch 124. Loss: 1.00877:  97% 15835/16352 [00:12<00:00, 1226.60it/s]\n",
            "Epoch 125. Loss: 1.03959:  97% 15835/16352 [00:12<00:00, 1226.73it/s]\n",
            "Epoch 126. Loss: 0.98411:  97% 15835/16352 [00:12<00:00, 1224.19it/s]\n",
            "Epoch 127. Loss: 1.04260:  97% 15835/16352 [00:12<00:00, 1228.74it/s]\n",
            "Epoch 128. Loss: 0.93986:  97% 15835/16352 [00:12<00:00, 1226.47it/s]\n",
            "Epoch 129. Loss: 0.98202:  97% 15835/16352 [00:12<00:00, 1220.10it/s]\n",
            "Epoch 130. Loss: 1.01052:  97% 15835/16352 [00:12<00:00, 1226.54it/s]\n",
            "Epoch 131. Loss: 1.02081:  97% 15835/16352 [00:12<00:00, 1222.30it/s]\n",
            "Epoch 132. Loss: 0.98486:  97% 15835/16352 [00:12<00:00, 1222.99it/s]\n",
            "Epoch 133. Loss: 0.98423:  97% 15835/16352 [00:12<00:00, 1218.99it/s]\n",
            "Epoch 134. Loss: 0.95304:  97% 15835/16352 [00:12<00:00, 1224.25it/s]\n",
            "Epoch 135. Loss: 0.98828:  97% 15835/16352 [00:13<00:00, 1213.40it/s]\n",
            "Epoch 136. Loss: 1.01794:  97% 15835/16352 [00:12<00:00, 1230.73it/s]\n",
            "Epoch 137. Loss: 1.00537:  97% 15835/16352 [00:12<00:00, 1223.82it/s]\n",
            "Epoch 138. Loss: 0.99508:  97% 15835/16352 [00:13<00:00, 1215.22it/s]\n",
            "Epoch 139. Loss: 0.96381:  97% 15835/16352 [00:12<00:00, 1224.34it/s]\n",
            "Epoch 140. Loss: 1.00098:  97% 15835/16352 [00:12<00:00, 1227.21it/s]\n",
            "Epoch 141. Loss: 1.01587:  97% 15835/16352 [00:12<00:00, 1226.40it/s]\n",
            "Epoch 142. Loss: 0.99715:  97% 15835/16352 [00:12<00:00, 1227.28it/s]\n",
            "Epoch 143. Loss: 0.94216:  97% 15835/16352 [00:12<00:00, 1229.88it/s]\n",
            "Epoch 144. Loss: 0.96454:  97% 15835/16352 [00:12<00:00, 1225.39it/s]\n",
            "Epoch 145. Loss: 0.99074:  97% 15835/16352 [00:13<00:00, 1192.77it/s]\n",
            "Epoch 146. Loss: 0.97651:  97% 15835/16352 [00:12<00:00, 1220.84it/s]\n",
            "Epoch 147. Loss: 1.00356:  97% 15835/16352 [00:12<00:00, 1220.52it/s]\n",
            "Epoch 148. Loss: 0.91639:  97% 15835/16352 [00:12<00:00, 1228.58it/s]\n",
            "Epoch 149. Loss: 0.96129:  97% 15835/16352 [00:13<00:00, 1217.43it/s]\n",
            "Epoch 150. Loss: 0.94321:  97% 15835/16352 [00:12<00:00, 1221.24it/s]\n",
            "Epoch 151. Loss: 0.93127:  97% 15835/16352 [00:12<00:00, 1220.01it/s]\n",
            "Epoch 152. Loss: 0.96442:  97% 15835/16352 [00:13<00:00, 1217.91it/s]\n",
            "Epoch 153. Loss: 0.92095:  97% 15835/16352 [00:12<00:00, 1221.99it/s]\n",
            "Epoch 154. Loss: 0.96989:  97% 15835/16352 [00:12<00:00, 1218.78it/s]\n",
            "Epoch 155. Loss: 0.98428:  97% 15835/16352 [00:12<00:00, 1219.66it/s]\n",
            "Epoch 156. Loss: 0.94749:  97% 15835/16352 [00:12<00:00, 1225.25it/s]\n",
            "Epoch 157. Loss: 0.89799:  97% 15835/16352 [00:12<00:00, 1220.50it/s]\n",
            "Epoch 158. Loss: 0.96498:  97% 15835/16352 [00:12<00:00, 1220.41it/s]\n",
            "Epoch 159. Loss: 1.00349:  97% 15835/16352 [00:13<00:00, 1214.83it/s]\n",
            "Epoch 160. Loss: 0.92887:  97% 15835/16352 [00:13<00:00, 1213.42it/s]\n",
            "Epoch 161. Loss: 0.92981:  97% 15835/16352 [00:13<00:00, 1206.94it/s]\n",
            "Epoch 162. Loss: 0.91480:  97% 15835/16352 [00:12<00:00, 1219.89it/s]\n",
            "Epoch 163. Loss: 0.97410:  97% 15835/16352 [00:12<00:00, 1219.00it/s]\n",
            "Epoch 164. Loss: 0.95211:  97% 15835/16352 [00:12<00:00, 1219.63it/s]\n",
            "Epoch 165. Loss: 0.94525:  97% 15835/16352 [00:12<00:00, 1218.12it/s]\n",
            "Epoch 166. Loss: 0.93621:  97% 15835/16352 [00:12<00:00, 1223.21it/s]\n",
            "Epoch 167. Loss: 0.96214:  97% 15835/16352 [00:12<00:00, 1221.95it/s]\n",
            "Epoch 168. Loss: 0.91856:  97% 15835/16352 [00:12<00:00, 1224.38it/s]\n",
            "Epoch 169. Loss: 0.94370:  97% 15835/16352 [00:13<00:00, 1201.48it/s]\n",
            "Epoch 170. Loss: 0.94969:  97% 15835/16352 [00:12<00:00, 1218.60it/s]\n",
            "Epoch 171. Loss: 0.91663:  97% 15835/16352 [00:13<00:00, 1214.33it/s]\n",
            "Epoch 172. Loss: 0.92933:  97% 15835/16352 [00:12<00:00, 1220.88it/s]\n",
            "Epoch 173. Loss: 0.94934:  97% 15835/16352 [00:12<00:00, 1219.94it/s]\n",
            "Epoch 174. Loss: 0.98278:  97% 15835/16352 [00:12<00:00, 1222.03it/s]\n",
            "Epoch 175. Loss: 0.94713:  97% 15835/16352 [00:13<00:00, 1215.99it/s]\n",
            "Epoch 176. Loss: 0.94446:  97% 15835/16352 [00:13<00:00, 1216.84it/s]\n",
            "Epoch 177. Loss: 0.96116:  97% 15835/16352 [00:13<00:00, 1214.21it/s]\n",
            "Epoch 178. Loss: 0.95221:  97% 15835/16352 [00:12<00:00, 1222.85it/s]\n",
            "Epoch 179. Loss: 0.91162:  97% 15835/16352 [00:13<00:00, 1216.12it/s]\n",
            "Epoch 180. Loss: 0.92786:  97% 15835/16352 [00:13<00:00, 1217.68it/s]\n",
            "Epoch 181. Loss: 0.94011:  97% 15835/16352 [00:13<00:00, 1212.34it/s]\n",
            "Epoch 182. Loss: 0.95579:  97% 15835/16352 [00:13<00:00, 1218.05it/s]\n",
            "Epoch 183. Loss: 0.92193:  97% 15835/16352 [00:13<00:00, 1211.90it/s]\n",
            "Epoch 184. Loss: 0.97792:  97% 15835/16352 [00:12<00:00, 1218.32it/s]\n",
            "Epoch 185. Loss: 0.91990:  97% 15835/16352 [00:13<00:00, 1212.47it/s]\n",
            "Epoch 186. Loss: 0.94153:  97% 15835/16352 [00:12<00:00, 1223.12it/s]\n",
            "Epoch 187. Loss: 0.91871:  97% 15835/16352 [00:12<00:00, 1223.88it/s]\n",
            "Epoch 188. Loss: 0.95461:  97% 15835/16352 [00:13<00:00, 1215.78it/s]\n",
            "Epoch 189. Loss: 0.92693:  97% 15835/16352 [00:13<00:00, 1216.17it/s]\n",
            "Epoch 190. Loss: 0.90909:  97% 15835/16352 [00:12<00:00, 1225.03it/s]\n",
            "Epoch 191. Loss: 0.92155:  97% 15835/16352 [00:13<00:00, 1215.16it/s]\n",
            "Epoch 192. Loss: 0.86097:  97% 15835/16352 [00:12<00:00, 1220.96it/s]\n",
            "Epoch 193. Loss: 0.93751:  97% 15835/16352 [00:13<00:00, 1199.16it/s]\n",
            "Epoch 194. Loss: 0.91262:  97% 15835/16352 [00:12<00:00, 1222.41it/s]\n",
            "Epoch 195. Loss: 0.91443:  97% 15835/16352 [00:12<00:00, 1218.67it/s]\n",
            "Epoch 196. Loss: 0.94849:  97% 15835/16352 [00:12<00:00, 1222.53it/s]\n",
            "Epoch 197. Loss: 0.98563:  97% 15835/16352 [00:12<00:00, 1222.65it/s]\n",
            "Epoch 198. Loss: 0.88452:  97% 15835/16352 [00:12<00:00, 1218.87it/s]\n",
            "Epoch 199. Loss: 0.87381:  97% 15835/16352 [00:12<00:00, 1220.41it/s]\n",
            "Evaluating model...\n",
            "\t - Recall@20 epoch 200: 0.510623\n",
            "\t - MRR@20    epoch 200: 0.207594\n",
            "\n"
          ],
          "name": "stdout"
        }
      ]
    },
    {
      "cell_type": "markdown",
      "metadata": {
        "id": "YdMFiWFK65w1"
      },
      "source": [
        "Indique el resultado del modelo con Dwell Time. \n",
        "\n",
        "Al incorporar el Dwell time al modelo se puede apreciar que el loss al que se llego fue mucho menor al modelo original (0.87381 vs 1.565). El recall@20 mejoró (0.510623 vs 0.461) y tambíen el mean reciprocal rank al 20 (0.207594 vs 0.1628). El modelo fue más lento en ejecutarse.\n",
        "\n",
        "Quiere decir que la información sobre el tiempo en que se queda el usuario en un ítem si está relacionado con su nivel de interés, lo que es útil para la recomendación."
      ]
    },
    {
      "cell_type": "code",
      "metadata": {
        "id": "4D1dj0y9B2Hb"
      },
      "source": [
        ""
      ],
      "execution_count": null,
      "outputs": []
    }
  ]
}